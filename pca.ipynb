{
 "cells": [
  {
   "cell_type": "code",
   "execution_count": 3,
   "id": "a7b2e9ca",
   "metadata": {},
   "outputs": [],
   "source": [
    "import pandas as pd\n",
    "import numpy as np\n",
    "import sklearn\n",
    "from sklearn.feature_selection import SelectKBest, chi2\n",
    "from sklearn.decomposition import PCA\n",
    "from sklearn.preprocessing import StandardScaler\n",
    "import plotly\n",
    "import plotly.graph_objs as go\n",
    "import plotly.express as px\n",
    "\n",
    "from sklearn.cluster import KMeans\n",
    "\n",
    "\n",
    "import seaborn as sb\n",
    "import matplotlib.pyplot as plt\n",
    "\n",
    "\n",
    "def PCA(X , num_components):\n",
    "    \n",
    "    #Step-1\n",
    "    X_meaned = X - np.mean(X , axis = 0)\n",
    "    \n",
    "    #Step-2\n",
    "    cov_mat = np.cov(X_meaned , rowvar = False)\n",
    "    \n",
    "    #Step-3\n",
    "    eigen_values , eigen_vectors = np.linalg.eigh(cov_mat)\n",
    "    \n",
    "    #Step-4\n",
    "    sorted_index = np.argsort(eigen_values)[::-1]\n",
    "    sorted_eigenvalue = eigen_values[sorted_index]\n",
    "    sorted_eigenvectors = eigen_vectors[:,sorted_index]\n",
    "    \n",
    "    #Step-5\n",
    "    eigenvector_subset = sorted_eigenvectors[:,0:num_components]\n",
    "    \n",
    "    #Step-6\n",
    "    X_reduced = np.dot(eigenvector_subset.transpose() , X_meaned.transpose() ).transpose()\n",
    "    \n",
    "    \n",
    "    return X_reduced \n"
   ]
  },
  {
   "cell_type": "code",
   "execution_count": null,
   "id": "86bfc8ef",
   "metadata": {},
   "outputs": [],
   "source": [
    "\n"
   ]
  },
  {
   "cell_type": "code",
   "execution_count": null,
   "id": "1472b550",
   "metadata": {},
   "outputs": [],
   "source": []
  },
  {
   "cell_type": "code",
   "execution_count": 4,
   "id": "d0de7c6a",
   "metadata": {},
   "outputs": [],
   "source": [
    "url = \"https://archive.ics.uci.edu/ml/machine-learning-databases/iris/iris.data\"\n",
    "data = pd.read_csv(url, names=['sepal length','sepal width','petal length','petal width','target'])"
   ]
  },
  {
   "cell_type": "code",
   "execution_count": 126,
   "id": "cafdfec4",
   "metadata": {},
   "outputs": [],
   "source": []
  },
  {
   "cell_type": "code",
   "execution_count": 5,
   "id": "d8bbf783",
   "metadata": {},
   "outputs": [
    {
     "data": {
      "text/html": [
       "<div>\n",
       "<style scoped>\n",
       "    .dataframe tbody tr th:only-of-type {\n",
       "        vertical-align: middle;\n",
       "    }\n",
       "\n",
       "    .dataframe tbody tr th {\n",
       "        vertical-align: top;\n",
       "    }\n",
       "\n",
       "    .dataframe thead th {\n",
       "        text-align: right;\n",
       "    }\n",
       "</style>\n",
       "<table border=\"1\" class=\"dataframe\">\n",
       "  <thead>\n",
       "    <tr style=\"text-align: right;\">\n",
       "      <th></th>\n",
       "      <th>sepal length</th>\n",
       "      <th>sepal width</th>\n",
       "      <th>petal length</th>\n",
       "      <th>petal width</th>\n",
       "      <th>target</th>\n",
       "    </tr>\n",
       "  </thead>\n",
       "  <tbody>\n",
       "    <tr>\n",
       "      <th>0</th>\n",
       "      <td>5.1</td>\n",
       "      <td>3.5</td>\n",
       "      <td>1.4</td>\n",
       "      <td>0.2</td>\n",
       "      <td>Iris-setosa</td>\n",
       "    </tr>\n",
       "    <tr>\n",
       "      <th>1</th>\n",
       "      <td>4.9</td>\n",
       "      <td>3.0</td>\n",
       "      <td>1.4</td>\n",
       "      <td>0.2</td>\n",
       "      <td>Iris-setosa</td>\n",
       "    </tr>\n",
       "    <tr>\n",
       "      <th>2</th>\n",
       "      <td>4.7</td>\n",
       "      <td>3.2</td>\n",
       "      <td>1.3</td>\n",
       "      <td>0.2</td>\n",
       "      <td>Iris-setosa</td>\n",
       "    </tr>\n",
       "    <tr>\n",
       "      <th>3</th>\n",
       "      <td>4.6</td>\n",
       "      <td>3.1</td>\n",
       "      <td>1.5</td>\n",
       "      <td>0.2</td>\n",
       "      <td>Iris-setosa</td>\n",
       "    </tr>\n",
       "    <tr>\n",
       "      <th>4</th>\n",
       "      <td>5.0</td>\n",
       "      <td>3.6</td>\n",
       "      <td>1.4</td>\n",
       "      <td>0.2</td>\n",
       "      <td>Iris-setosa</td>\n",
       "    </tr>\n",
       "    <tr>\n",
       "      <th>...</th>\n",
       "      <td>...</td>\n",
       "      <td>...</td>\n",
       "      <td>...</td>\n",
       "      <td>...</td>\n",
       "      <td>...</td>\n",
       "    </tr>\n",
       "    <tr>\n",
       "      <th>95</th>\n",
       "      <td>5.7</td>\n",
       "      <td>3.0</td>\n",
       "      <td>4.2</td>\n",
       "      <td>1.2</td>\n",
       "      <td>Iris-versicolor</td>\n",
       "    </tr>\n",
       "    <tr>\n",
       "      <th>96</th>\n",
       "      <td>5.7</td>\n",
       "      <td>2.9</td>\n",
       "      <td>4.2</td>\n",
       "      <td>1.3</td>\n",
       "      <td>Iris-versicolor</td>\n",
       "    </tr>\n",
       "    <tr>\n",
       "      <th>97</th>\n",
       "      <td>6.2</td>\n",
       "      <td>2.9</td>\n",
       "      <td>4.3</td>\n",
       "      <td>1.3</td>\n",
       "      <td>Iris-versicolor</td>\n",
       "    </tr>\n",
       "    <tr>\n",
       "      <th>98</th>\n",
       "      <td>5.1</td>\n",
       "      <td>2.5</td>\n",
       "      <td>3.0</td>\n",
       "      <td>1.1</td>\n",
       "      <td>Iris-versicolor</td>\n",
       "    </tr>\n",
       "    <tr>\n",
       "      <th>99</th>\n",
       "      <td>5.7</td>\n",
       "      <td>2.8</td>\n",
       "      <td>4.1</td>\n",
       "      <td>1.3</td>\n",
       "      <td>Iris-versicolor</td>\n",
       "    </tr>\n",
       "  </tbody>\n",
       "</table>\n",
       "<p>100 rows × 5 columns</p>\n",
       "</div>"
      ],
      "text/plain": [
       "    sepal length  sepal width  petal length  petal width           target\n",
       "0            5.1          3.5           1.4          0.2      Iris-setosa\n",
       "1            4.9          3.0           1.4          0.2      Iris-setosa\n",
       "2            4.7          3.2           1.3          0.2      Iris-setosa\n",
       "3            4.6          3.1           1.5          0.2      Iris-setosa\n",
       "4            5.0          3.6           1.4          0.2      Iris-setosa\n",
       "..           ...          ...           ...          ...              ...\n",
       "95           5.7          3.0           4.2          1.2  Iris-versicolor\n",
       "96           5.7          2.9           4.2          1.3  Iris-versicolor\n",
       "97           6.2          2.9           4.3          1.3  Iris-versicolor\n",
       "98           5.1          2.5           3.0          1.1  Iris-versicolor\n",
       "99           5.7          2.8           4.1          1.3  Iris-versicolor\n",
       "\n",
       "[100 rows x 5 columns]"
      ]
     },
     "execution_count": 5,
     "metadata": {},
     "output_type": "execute_result"
    }
   ],
   "source": [
    "data.head(100)"
   ]
  },
  {
   "cell_type": "code",
   "execution_count": 19,
   "id": "6afd7759",
   "metadata": {},
   "outputs": [
    {
     "data": {
      "text/html": [
       "<div>\n",
       "<style scoped>\n",
       "    .dataframe tbody tr th:only-of-type {\n",
       "        vertical-align: middle;\n",
       "    }\n",
       "\n",
       "    .dataframe tbody tr th {\n",
       "        vertical-align: top;\n",
       "    }\n",
       "\n",
       "    .dataframe thead th {\n",
       "        text-align: right;\n",
       "    }\n",
       "</style>\n",
       "<table border=\"1\" class=\"dataframe\">\n",
       "  <thead>\n",
       "    <tr style=\"text-align: right;\">\n",
       "      <th></th>\n",
       "      <th>sepal length</th>\n",
       "      <th>sepal width</th>\n",
       "      <th>petal length</th>\n",
       "      <th>petal width</th>\n",
       "    </tr>\n",
       "  </thead>\n",
       "  <tbody>\n",
       "    <tr>\n",
       "      <th>0</th>\n",
       "      <td>-0.743333</td>\n",
       "      <td>0.446</td>\n",
       "      <td>-2.358667</td>\n",
       "      <td>-0.998667</td>\n",
       "    </tr>\n",
       "    <tr>\n",
       "      <th>1</th>\n",
       "      <td>-0.943333</td>\n",
       "      <td>-0.054</td>\n",
       "      <td>-2.358667</td>\n",
       "      <td>-0.998667</td>\n",
       "    </tr>\n",
       "    <tr>\n",
       "      <th>2</th>\n",
       "      <td>-1.143333</td>\n",
       "      <td>0.146</td>\n",
       "      <td>-2.458667</td>\n",
       "      <td>-0.998667</td>\n",
       "    </tr>\n",
       "    <tr>\n",
       "      <th>3</th>\n",
       "      <td>-1.243333</td>\n",
       "      <td>0.046</td>\n",
       "      <td>-2.258667</td>\n",
       "      <td>-0.998667</td>\n",
       "    </tr>\n",
       "    <tr>\n",
       "      <th>4</th>\n",
       "      <td>-0.843333</td>\n",
       "      <td>0.546</td>\n",
       "      <td>-2.358667</td>\n",
       "      <td>-0.998667</td>\n",
       "    </tr>\n",
       "    <tr>\n",
       "      <th>...</th>\n",
       "      <td>...</td>\n",
       "      <td>...</td>\n",
       "      <td>...</td>\n",
       "      <td>...</td>\n",
       "    </tr>\n",
       "    <tr>\n",
       "      <th>145</th>\n",
       "      <td>0.856667</td>\n",
       "      <td>-0.054</td>\n",
       "      <td>1.441333</td>\n",
       "      <td>1.101333</td>\n",
       "    </tr>\n",
       "    <tr>\n",
       "      <th>146</th>\n",
       "      <td>0.456667</td>\n",
       "      <td>-0.554</td>\n",
       "      <td>1.241333</td>\n",
       "      <td>0.701333</td>\n",
       "    </tr>\n",
       "    <tr>\n",
       "      <th>147</th>\n",
       "      <td>0.656667</td>\n",
       "      <td>-0.054</td>\n",
       "      <td>1.441333</td>\n",
       "      <td>0.801333</td>\n",
       "    </tr>\n",
       "    <tr>\n",
       "      <th>148</th>\n",
       "      <td>0.356667</td>\n",
       "      <td>0.346</td>\n",
       "      <td>1.641333</td>\n",
       "      <td>1.101333</td>\n",
       "    </tr>\n",
       "    <tr>\n",
       "      <th>149</th>\n",
       "      <td>0.056667</td>\n",
       "      <td>-0.054</td>\n",
       "      <td>1.341333</td>\n",
       "      <td>0.601333</td>\n",
       "    </tr>\n",
       "  </tbody>\n",
       "</table>\n",
       "<p>150 rows × 4 columns</p>\n",
       "</div>"
      ],
      "text/plain": [
       "     sepal length  sepal width  petal length  petal width\n",
       "0       -0.743333        0.446     -2.358667    -0.998667\n",
       "1       -0.943333       -0.054     -2.358667    -0.998667\n",
       "2       -1.143333        0.146     -2.458667    -0.998667\n",
       "3       -1.243333        0.046     -2.258667    -0.998667\n",
       "4       -0.843333        0.546     -2.358667    -0.998667\n",
       "..            ...          ...           ...          ...\n",
       "145      0.856667       -0.054      1.441333     1.101333\n",
       "146      0.456667       -0.554      1.241333     0.701333\n",
       "147      0.656667       -0.054      1.441333     0.801333\n",
       "148      0.356667        0.346      1.641333     1.101333\n",
       "149      0.056667       -0.054      1.341333     0.601333\n",
       "\n",
       "[150 rows x 4 columns]"
      ]
     },
     "execution_count": 19,
     "metadata": {},
     "output_type": "execute_result"
    }
   ],
   "source": [
    "#Get the IRIS dataset\n",
    "\n",
    "\n",
    "#prepare the data\n",
    "origin = data.iloc[:,0:4]\n",
    "\n",
    "\n",
    "#prepare the target\n",
    "target = data.iloc[:,4]\n",
    "\n",
    "#Applying it to PCA function\n",
    "X_meaned = origin - np.mean(origin , axis = 0)\n",
    "\n",
    "X_meaned\n"
   ]
  },
  {
   "cell_type": "code",
   "execution_count": 20,
   "id": "c2523241",
   "metadata": {},
   "outputs": [
    {
     "data": {
      "text/plain": [
       "array([[ 0.68569351, -0.03926846,  1.27368233,  0.5169038 ],\n",
       "       [-0.03926846,  0.18800403, -0.32171275, -0.11798121],\n",
       "       [ 1.27368233, -0.32171275,  3.11317942,  1.29638747],\n",
       "       [ 0.5169038 , -0.11798121,  1.29638747,  0.58241432]])"
      ]
     },
     "execution_count": 20,
     "metadata": {},
     "output_type": "execute_result"
    }
   ],
   "source": [
    "cov_mat = np.cov(X_meaned , rowvar = False)\n",
    "\n",
    "cov_mat"
   ]
  },
  {
   "cell_type": "code",
   "execution_count": 21,
   "id": "6fa11998",
   "metadata": {},
   "outputs": [
    {
     "data": {
      "text/plain": [
       "(array([0.02368303, 0.07852391, 0.24224357, 4.22484077]),\n",
       " array([[ 0.31725455,  0.58099728,  0.65653988, -0.36158968],\n",
       "        [-0.32409435, -0.59641809,  0.72971237,  0.08226889],\n",
       "        [-0.47971899, -0.07252408, -0.1757674 , -0.85657211],\n",
       "        [ 0.75112056, -0.54906091, -0.07470647, -0.35884393]]))"
      ]
     },
     "execution_count": 21,
     "metadata": {},
     "output_type": "execute_result"
    }
   ],
   "source": [
    "eigen_values , eigen_vectors = np.linalg.eigh(cov_mat)\n",
    "\n",
    "eigen_values, eigen_vectors"
   ]
  },
  {
   "cell_type": "code",
   "execution_count": 22,
   "id": "1f94fa8a",
   "metadata": {},
   "outputs": [
    {
     "data": {
      "text/plain": [
       "array([[-0.36158968,  0.65653988],\n",
       "       [ 0.08226889,  0.72971237],\n",
       "       [-0.85657211, -0.1757674 ],\n",
       "       [-0.35884393, -0.07470647]])"
      ]
     },
     "execution_count": 22,
     "metadata": {},
     "output_type": "execute_result"
    }
   ],
   "source": [
    "    sorted_index = np.argsort(eigen_values)[::-1]\n",
    "    sorted_eigenvalue = eigen_values[sorted_index]\n",
    "    sorted_eigenvectors = eigen_vectors[:,sorted_index]\n",
    "    \n",
    "    #Step-5\n",
    "    eigenvector_subset = sorted_eigenvectors[:,0:2]\n",
    "    eigenvector_subset"
   ]
  },
  {
   "cell_type": "code",
   "execution_count": 23,
   "id": "3a531255",
   "metadata": {},
   "outputs": [],
   "source": [
    "X_reduced = np.dot(eigenvector_subset.transpose() , X_meaned.transpose() ).transpose()"
   ]
  },
  {
   "cell_type": "code",
   "execution_count": 24,
   "id": "1cb6c198",
   "metadata": {},
   "outputs": [
    {
     "data": {
      "text/plain": [
       "array([[ 2.68420713,  0.32660731],\n",
       "       [ 2.71539062, -0.16955685],\n",
       "       [ 2.88981954, -0.13734561],\n",
       "       [ 2.7464372 , -0.31112432],\n",
       "       [ 2.72859298,  0.33392456],\n",
       "       [ 2.27989736,  0.74778271],\n",
       "       [ 2.82089068, -0.08210451],\n",
       "       [ 2.62648199,  0.17040535],\n",
       "       [ 2.88795857, -0.57079803],\n",
       "       [ 2.67384469, -0.1066917 ],\n",
       "       [ 2.50652679,  0.65193501],\n",
       "       [ 2.61314272,  0.02152063],\n",
       "       [ 2.78743398, -0.22774019],\n",
       "       [ 3.22520045, -0.50327991],\n",
       "       [ 2.64354322,  1.1861949 ],\n",
       "       [ 2.38386932,  1.34475434],\n",
       "       [ 2.6225262 ,  0.81808967],\n",
       "       [ 2.64832273,  0.31913667],\n",
       "       [ 2.19907796,  0.87924409],\n",
       "       [ 2.58734619,  0.52047364],\n",
       "       [ 2.3105317 ,  0.39786782],\n",
       "       [ 2.54323491,  0.44003175],\n",
       "       [ 3.21585769,  0.14161557],\n",
       "       [ 2.30312854,  0.10552268],\n",
       "       [ 2.35617109, -0.03120959],\n",
       "       [ 2.50791723, -0.13905634],\n",
       "       [ 2.469056  ,  0.13788731],\n",
       "       [ 2.56239095,  0.37468456],\n",
       "       [ 2.63982127,  0.31929007],\n",
       "       [ 2.63284791, -0.19007583],\n",
       "       [ 2.58846205, -0.19739308],\n",
       "       [ 2.41007734,  0.41808001],\n",
       "       [ 2.64763667,  0.81998263],\n",
       "       [ 2.59715948,  1.10002193],\n",
       "       [ 2.67384469, -0.1066917 ],\n",
       "       [ 2.86699985,  0.0771931 ],\n",
       "       [ 2.62522846,  0.60680001],\n",
       "       [ 2.67384469, -0.1066917 ],\n",
       "       [ 2.98184266, -0.48025005],\n",
       "       [ 2.59032303,  0.23605934],\n",
       "       [ 2.77013891,  0.27105942],\n",
       "       [ 2.85221108, -0.93286537],\n",
       "       [ 2.99829644, -0.33430757],\n",
       "       [ 2.4055141 ,  0.19591726],\n",
       "       [ 2.20883295,  0.44269603],\n",
       "       [ 2.71566519, -0.24268148],\n",
       "       [ 2.53757337,  0.51036755],\n",
       "       [ 2.8403213 , -0.22057634],\n",
       "       [ 2.54268576,  0.58628103],\n",
       "       [ 2.70391231,  0.11501085],\n",
       "       [-1.28479459,  0.68543919],\n",
       "       [-0.93241075,  0.31919809],\n",
       "       [-1.46406132,  0.50418983],\n",
       "       [-0.18096721, -0.82560394],\n",
       "       [-1.08713449,  0.07539039],\n",
       "       [-0.64043675, -0.41732348],\n",
       "       [-1.09522371,  0.28389121],\n",
       "       [ 0.75146714, -1.00110751],\n",
       "       [-1.04329778,  0.22895691],\n",
       "       [ 0.01019007, -0.72057487],\n",
       "       [ 0.5110862 , -1.26249195],\n",
       "       [-0.51109806, -0.10228411],\n",
       "       [-0.26233576, -0.5478933 ],\n",
       "       [-0.98404455, -0.12436042],\n",
       "       [ 0.174864  , -0.25181557],\n",
       "       [-0.92757294,  0.46823621],\n",
       "       [-0.65959279, -0.35197629],\n",
       "       [-0.23454059, -0.33192183],\n",
       "       [-0.94236171, -0.54182226],\n",
       "       [-0.0432464 , -0.58148945],\n",
       "       [-1.11624072, -0.08421401],\n",
       "       [-0.35678657, -0.06682383],\n",
       "       [-1.29646885, -0.32756152],\n",
       "       [-0.92050265, -0.18239036],\n",
       "       [-0.71400821,  0.15037915],\n",
       "       [-0.89964086,  0.32961098],\n",
       "       [-1.33104142,  0.24466952],\n",
       "       [-1.55739627,  0.26739258],\n",
       "       [-0.81245555, -0.16233157],\n",
       "       [ 0.30733476, -0.36508661],\n",
       "       [ 0.07034289, -0.70253793],\n",
       "       [ 0.19188449, -0.67749054],\n",
       "       [-0.13499495, -0.31170964],\n",
       "       [-1.37873698, -0.42120514],\n",
       "       [-0.58727485, -0.48328427],\n",
       "       [-0.8072055 ,  0.19505396],\n",
       "       [-1.22042897,  0.40803534],\n",
       "       [-0.81286779, -0.370679  ],\n",
       "       [-0.24519516, -0.26672804],\n",
       "       [-0.16451343, -0.67966147],\n",
       "       [-0.46303099, -0.66952655],\n",
       "       [-0.89016045, -0.03381244],\n",
       "       [-0.22887905, -0.40225762],\n",
       "       [ 0.70708128, -1.00842476],\n",
       "       [-0.35553304, -0.50321849],\n",
       "       [-0.33112695, -0.21118014],\n",
       "       [-0.37523823, -0.29162202],\n",
       "       [-0.64169028,  0.01907118],\n",
       "       [ 0.90846333, -0.75156873],\n",
       "       [-0.29780791, -0.34701652],\n",
       "       [-2.53172698, -0.01184224],\n",
       "       [-1.41407223, -0.57492506],\n",
       "       [-2.61648461,  0.34193529],\n",
       "       [-1.97081495, -0.18112569],\n",
       "       [-2.34975798, -0.04188255],\n",
       "       [-3.39687992,  0.54716805],\n",
       "       [-0.51938325, -1.19135169],\n",
       "       [-2.9320051 ,  0.35237701],\n",
       "       [-2.31967279, -0.24554817],\n",
       "       [-2.91813423,  0.78038063],\n",
       "       [-1.66193495,  0.2420384 ],\n",
       "       [-1.80234045, -0.21615461],\n",
       "       [-2.16537886,  0.21528028],\n",
       "       [-1.34459422, -0.77641543],\n",
       "       [-1.5852673 , -0.53930705],\n",
       "       [-1.90474358,  0.11881899],\n",
       "       [-1.94924878,  0.04073026],\n",
       "       [-3.48876538,  1.17154454],\n",
       "       [-3.79468686,  0.25326557],\n",
       "       [-1.29832982, -0.76101394],\n",
       "       [-2.42816726,  0.37678197],\n",
       "       [-1.19809737, -0.60557896],\n",
       "       [-3.49926548,  0.45677347],\n",
       "       [-1.38766825, -0.20403099],\n",
       "       [-2.27585365,  0.33338653],\n",
       "       [-2.61419383,  0.55836695],\n",
       "       [-1.25762518, -0.179137  ],\n",
       "       [-1.29066965, -0.11642525],\n",
       "       [-2.12285398, -0.21085488],\n",
       "       [-2.3875644 ,  0.46251925],\n",
       "       [-2.84096093,  0.37274259],\n",
       "       [-3.2323429 ,  1.37052404],\n",
       "       [-2.15873837, -0.21832553],\n",
       "       [-1.4431026 , -0.14380129],\n",
       "       [-1.77964011, -0.50146479],\n",
       "       [-3.07652162,  0.68576444],\n",
       "       [-2.14498686,  0.13890661],\n",
       "       [-1.90486293,  0.04804751],\n",
       "       [-1.16885347, -0.1645025 ],\n",
       "       [-2.10765373,  0.37148225],\n",
       "       [-2.31430339,  0.18260885],\n",
       "       [-1.92245088,  0.40927118],\n",
       "       [-1.41407223, -0.57492506],\n",
       "       [-2.56332271,  0.2759745 ],\n",
       "       [-2.41939122,  0.30350394],\n",
       "       [-1.94401705,  0.18741522],\n",
       "       [-1.52566363, -0.37502085],\n",
       "       [-1.76404594,  0.07851919],\n",
       "       [-1.90162908,  0.11587675],\n",
       "       [-1.38966613, -0.28288671]])"
      ]
     },
     "execution_count": 24,
     "metadata": {},
     "output_type": "execute_result"
    }
   ],
   "source": [
    "X_reduced"
   ]
  },
  {
   "cell_type": "code",
   "execution_count": 27,
   "id": "ce8a0592",
   "metadata": {},
   "outputs": [
    {
     "data": {
      "text/html": [
       "<div>\n",
       "<style scoped>\n",
       "    .dataframe tbody tr th:only-of-type {\n",
       "        vertical-align: middle;\n",
       "    }\n",
       "\n",
       "    .dataframe tbody tr th {\n",
       "        vertical-align: top;\n",
       "    }\n",
       "\n",
       "    .dataframe thead th {\n",
       "        text-align: right;\n",
       "    }\n",
       "</style>\n",
       "<table border=\"1\" class=\"dataframe\">\n",
       "  <thead>\n",
       "    <tr style=\"text-align: right;\">\n",
       "      <th></th>\n",
       "      <th>PC1</th>\n",
       "      <th>PC2</th>\n",
       "    </tr>\n",
       "  </thead>\n",
       "  <tbody>\n",
       "    <tr>\n",
       "      <th>0</th>\n",
       "      <td>2.684207</td>\n",
       "      <td>0.326607</td>\n",
       "    </tr>\n",
       "    <tr>\n",
       "      <th>1</th>\n",
       "      <td>2.715391</td>\n",
       "      <td>-0.169557</td>\n",
       "    </tr>\n",
       "    <tr>\n",
       "      <th>2</th>\n",
       "      <td>2.889820</td>\n",
       "      <td>-0.137346</td>\n",
       "    </tr>\n",
       "    <tr>\n",
       "      <th>3</th>\n",
       "      <td>2.746437</td>\n",
       "      <td>-0.311124</td>\n",
       "    </tr>\n",
       "    <tr>\n",
       "      <th>4</th>\n",
       "      <td>2.728593</td>\n",
       "      <td>0.333925</td>\n",
       "    </tr>\n",
       "    <tr>\n",
       "      <th>...</th>\n",
       "      <td>...</td>\n",
       "      <td>...</td>\n",
       "    </tr>\n",
       "    <tr>\n",
       "      <th>145</th>\n",
       "      <td>-1.944017</td>\n",
       "      <td>0.187415</td>\n",
       "    </tr>\n",
       "    <tr>\n",
       "      <th>146</th>\n",
       "      <td>-1.525664</td>\n",
       "      <td>-0.375021</td>\n",
       "    </tr>\n",
       "    <tr>\n",
       "      <th>147</th>\n",
       "      <td>-1.764046</td>\n",
       "      <td>0.078519</td>\n",
       "    </tr>\n",
       "    <tr>\n",
       "      <th>148</th>\n",
       "      <td>-1.901629</td>\n",
       "      <td>0.115877</td>\n",
       "    </tr>\n",
       "    <tr>\n",
       "      <th>149</th>\n",
       "      <td>-1.389666</td>\n",
       "      <td>-0.282887</td>\n",
       "    </tr>\n",
       "  </tbody>\n",
       "</table>\n",
       "<p>150 rows × 2 columns</p>\n",
       "</div>"
      ],
      "text/plain": [
       "          PC1       PC2\n",
       "0    2.684207  0.326607\n",
       "1    2.715391 -0.169557\n",
       "2    2.889820 -0.137346\n",
       "3    2.746437 -0.311124\n",
       "4    2.728593  0.333925\n",
       "..        ...       ...\n",
       "145 -1.944017  0.187415\n",
       "146 -1.525664 -0.375021\n",
       "147 -1.764046  0.078519\n",
       "148 -1.901629  0.115877\n",
       "149 -1.389666 -0.282887\n",
       "\n",
       "[150 rows x 2 columns]"
      ]
     },
     "execution_count": 27,
     "metadata": {},
     "output_type": "execute_result"
    }
   ],
   "source": [
    "principal_df = pd.DataFrame(X_reduced , columns = ['PC1',\"PC2\"])\n",
    "\n",
    "Xsecond =  KMeans(n_clusters=3, random_state=0).fit(principal_df)\n",
    "labels2 = Xsecond.labels_\n",
    "principal_df\n",
    "\n",
    "#Concat it with target variable to create a complete Dataset\n"
   ]
  },
  {
   "cell_type": "code",
   "execution_count": 28,
   "id": "645f024e",
   "metadata": {},
   "outputs": [
    {
     "data": {
      "text/plain": [
       "(          PC1       PC2          target\n",
       " 0    2.684207  0.326607     Iris-setosa\n",
       " 1    2.715391 -0.169557     Iris-setosa\n",
       " 2    2.889820 -0.137346     Iris-setosa\n",
       " 3    2.746437 -0.311124     Iris-setosa\n",
       " 4    2.728593  0.333925     Iris-setosa\n",
       " ..        ...       ...             ...\n",
       " 145 -1.944017  0.187415  Iris-virginica\n",
       " 146 -1.525664 -0.375021  Iris-virginica\n",
       " 147 -1.764046  0.078519  Iris-virginica\n",
       " 148 -1.901629  0.115877  Iris-virginica\n",
       " 149 -1.389666 -0.282887  Iris-virginica\n",
       " \n",
       " [150 rows x 3 columns],\n",
       "           PC1       PC2  target\n",
       " 0    2.684207  0.326607       0\n",
       " 1    2.715391 -0.169557       0\n",
       " 2    2.889820 -0.137346       0\n",
       " 3    2.746437 -0.311124       0\n",
       " 4    2.728593  0.333925       0\n",
       " ..        ...       ...     ...\n",
       " 145 -1.944017  0.187415       1\n",
       " 146 -1.525664 -0.375021       2\n",
       " 147 -1.764046  0.078519       1\n",
       " 148 -1.901629  0.115877       1\n",
       " 149 -1.389666 -0.282887       2\n",
       " \n",
       " [150 rows x 3 columns])"
      ]
     },
     "execution_count": 28,
     "metadata": {},
     "output_type": "execute_result"
    }
   ],
   "source": [
    "principal = pd.concat([principal_df , pd.DataFrame(target)] , axis = 1)\n",
    "k_means2  = pd.concat([principal_df , pd.DataFrame({'target' :labels2})] , axis = 1)\n",
    "principal, k_means2"
   ]
  },
  {
   "cell_type": "code",
   "execution_count": 103,
   "id": "cf3e1f51",
   "metadata": {},
   "outputs": [
    {
     "data": {
      "text/plain": [
       "<AxesSubplot:xlabel='PC1', ylabel='PC2'>"
      ]
     },
     "execution_count": 103,
     "metadata": {},
     "output_type": "execute_result"
    },
    {
     "data": {
      "image/png": "[encoded data removed]",
      "text/plain": [
       "<Figure size 432x288 with 1 Axes>"
      ]
     },
     "metadata": {
      "needs_background": "light"
     },
     "output_type": "display_data"
    }
   ],
   "source": [
    "plt.figure()\n",
    "sb.scatterplot(data = k_means2 , x = 'PC1',y= 'PC2', hue = \"target\", s = 60 , palette= 'icefire')\n",
    "\n"
   ]
  },
  {
   "cell_type": "code",
   "execution_count": 172,
   "id": "13f5f11c",
   "metadata": {},
   "outputs": [
    {
     "data": {
      "text/plain": [
       "<AxesSubplot:xlabel='PC1', ylabel='PC2'>"
      ]
     },
     "execution_count": 172,
     "metadata": {},
     "output_type": "execute_result"
    },
    {
     "data": {
      "image/png": "[encoded data removed]",
      "text/plain": [
       "<Figure size 432x288 with 1 Axes>"
      ]
     },
     "metadata": {
      "needs_background": "light"
     },
     "output_type": "display_data"
    }
   ],
   "source": [
    "plt.figure()\n",
    "sb.scatterplot(data = principal , x = 'PC1',y= 'PC2', hue = 'target' , s = 60 , palette= 'icefire')\n"
   ]
  },
  {
   "cell_type": "code",
   "execution_count": 344,
   "id": "5f82153f",
   "metadata": {},
   "outputs": [
    {
     "data": {
      "text/plain": [
       "'5DPlot.html'"
      ]
     },
     "execution_count": 344,
     "metadata": {},
     "output_type": "execute_result"
    }
   ],
   "source": [
    "markercolor = data['target'].replace(\"Iris-setosa\",\"red\").replace(\"Iris-versicolor\",\"yellow\").replace(\"Iris-virginica\",\"darkviolet\")\n",
    "markersize = data['sepal length']*3\n",
    "originfig = go.Scatter3d(x=data['petal length'],\n",
    "                    y=data['sepal width'],\n",
    "                    z=data['petal width'],\n",
    "                     marker=dict(\n",
    "                                color=markercolor,\n",
    "                                size=markersize,\n",
    "                                opacity=0.9,),\n",
    "                    line=dict (width=0.01),\n",
    "                    mode='markers')\n",
    "\n",
    "#Make Plot.ly Layout\n",
    "originlay = go.Layout(scene=dict(xaxis=dict( title=\"sepal length\"),\n",
    "                                yaxis=dict( title=\"sepal width\"),\n",
    "                                zaxis=dict(title=\"petal length\")),)\n",
    "\n",
    "#Plot and save html\n",
    "plotly.offline.plot({\"data\": [originfig],\n",
    "                     \"layout\": originlay},\n",
    "                     auto_open=True,\n",
    "                     filename=(\"5DPlot.html\"))"
   ]
  },
  {
   "cell_type": "code",
   "execution_count": 1,
   "id": "ac36be5c",
   "metadata": {},
   "outputs": [
    {
     "ename": "NameError",
     "evalue": "name 'px' is not defined",
     "output_type": "error",
     "traceback": [
      "\u001b[1;31m---------------------------------------------------------------------------\u001b[0m",
      "\u001b[1;31mNameError\u001b[0m                                 Traceback (most recent call last)",
      "Input \u001b[1;32mIn [1]\u001b[0m, in \u001b[0;36m<cell line: 1>\u001b[1;34m()\u001b[0m\n\u001b[1;32m----> 1\u001b[0m fig2 \u001b[38;5;241m=\u001b[39m \u001b[43mpx\u001b[49m\u001b[38;5;241m.\u001b[39mscatter(x\u001b[38;5;241m=\u001b[39mprincipal[\u001b[38;5;124m'\u001b[39m\u001b[38;5;124mPC1\u001b[39m\u001b[38;5;124m'\u001b[39m],\n\u001b[0;32m      2\u001b[0m                   y\u001b[38;5;241m=\u001b[39mprincipal[\u001b[38;5;124m'\u001b[39m\u001b[38;5;124mPC2\u001b[39m\u001b[38;5;124m'\u001b[39m],\n\u001b[0;32m      3\u001b[0m                   color\u001b[38;5;241m=\u001b[39m principal[\u001b[38;5;124m'\u001b[39m\u001b[38;5;124mtarget\u001b[39m\u001b[38;5;124m'\u001b[39m], color_discrete_map\u001b[38;5;241m=\u001b[39m{\n\u001b[0;32m      4\u001b[0m                     \u001b[38;5;124m\"\u001b[39m\u001b[38;5;124mIris-setosa\u001b[39m\u001b[38;5;124m\"\u001b[39m: \u001b[38;5;124m\"\u001b[39m\u001b[38;5;124mblue\u001b[39m\u001b[38;5;124m\"\u001b[39m,\n\u001b[0;32m      5\u001b[0m                     \u001b[38;5;124m\"\u001b[39m\u001b[38;5;124mIris-versicolor\u001b[39m\u001b[38;5;124m\"\u001b[39m: \u001b[38;5;124m\"\u001b[39m\u001b[38;5;124mred\u001b[39m\u001b[38;5;124m\"\u001b[39m,\n\u001b[0;32m      6\u001b[0m                     \u001b[38;5;124m\"\u001b[39m\u001b[38;5;124mIris-virginica\u001b[39m\u001b[38;5;124m\"\u001b[39m: \u001b[38;5;124m\"\u001b[39m\u001b[38;5;124myellow\u001b[39m\u001b[38;5;124m\"\u001b[39m,})\n\u001b[0;32m      8\u001b[0m fig2\u001b[38;5;241m.\u001b[39mshow()\n",
      "\u001b[1;31mNameError\u001b[0m: name 'px' is not defined"
     ]
    }
   ],
   "source": [
    "fig2 = px.scatter(x=principal['PC1'],\n",
    "                  y=principal['PC2'],\n",
    "                  color= principal['target'], color_discrete_map={\n",
    "                    \"Iris-setosa\": \"blue\",\n",
    "                    \"Iris-versicolor\": \"red\",\n",
    "                    \"Iris-virginica\": \"yellow\",})\n",
    "\n",
    "fig2.show()\n"
   ]
  },
  {
   "cell_type": "code",
   "execution_count": 210,
   "id": "d8e8b897",
   "metadata": {},
   "outputs": [],
   "source": [
    "originCluseters = KMeans(n_clusters=3, random_state=0).fit(origin)"
   ]
  },
  {
   "cell_type": "code",
   "execution_count": 211,
   "id": "50cdf8e1",
   "metadata": {},
   "outputs": [
    {
     "data": {
      "text/plain": [
       "array([1, 1, 1, 1, 1, 1, 1, 1, 1, 1, 1, 1, 1, 1, 1, 1, 1, 1, 1, 1, 1, 1,\n",
       "       1, 1, 1, 1, 1, 1, 1, 1, 1, 1, 1, 1, 1, 1, 1, 1, 1, 1, 1, 1, 1, 1,\n",
       "       1, 1, 1, 1, 1, 1, 0, 0, 2, 0, 0, 0, 0, 0, 0, 0, 0, 0, 0, 0, 0, 0,\n",
       "       0, 0, 0, 0, 0, 0, 0, 0, 0, 0, 0, 2, 0, 0, 0, 0, 0, 0, 0, 0, 0, 0,\n",
       "       0, 0, 0, 0, 0, 0, 0, 0, 0, 0, 0, 0, 2, 0, 2, 2, 2, 2, 0, 2, 2, 2,\n",
       "       2, 2, 2, 0, 0, 2, 2, 2, 2, 0, 2, 0, 2, 0, 2, 2, 0, 0, 2, 2, 2, 2,\n",
       "       2, 0, 2, 2, 2, 2, 0, 2, 2, 2, 0, 2, 2, 2, 0, 2, 2, 0])"
      ]
     },
     "execution_count": 211,
     "metadata": {},
     "output_type": "execute_result"
    }
   ],
   "source": [
    "Xfirst.labels_"
   ]
  },
  {
   "cell_type": "code",
   "execution_count": 145,
   "id": "a2ba4256",
   "metadata": {},
   "outputs": [
    {
     "data": {
      "text/html": [
       "<div>\n",
       "<style scoped>\n",
       "    .dataframe tbody tr th:only-of-type {\n",
       "        vertical-align: middle;\n",
       "    }\n",
       "\n",
       "    .dataframe tbody tr th {\n",
       "        vertical-align: top;\n",
       "    }\n",
       "\n",
       "    .dataframe thead th {\n",
       "        text-align: right;\n",
       "    }\n",
       "</style>\n",
       "<table border=\"1\" class=\"dataframe\">\n",
       "  <thead>\n",
       "    <tr style=\"text-align: right;\">\n",
       "      <th></th>\n",
       "      <th>PC1</th>\n",
       "      <th>target</th>\n",
       "    </tr>\n",
       "  </thead>\n",
       "  <tbody>\n",
       "    <tr>\n",
       "      <th>0</th>\n",
       "      <td>2.684207</td>\n",
       "      <td>Iris-setosa</td>\n",
       "    </tr>\n",
       "    <tr>\n",
       "      <th>1</th>\n",
       "      <td>2.715391</td>\n",
       "      <td>Iris-setosa</td>\n",
       "    </tr>\n",
       "    <tr>\n",
       "      <th>2</th>\n",
       "      <td>2.889820</td>\n",
       "      <td>Iris-setosa</td>\n",
       "    </tr>\n",
       "    <tr>\n",
       "      <th>3</th>\n",
       "      <td>2.746437</td>\n",
       "      <td>Iris-setosa</td>\n",
       "    </tr>\n",
       "    <tr>\n",
       "      <th>4</th>\n",
       "      <td>2.728593</td>\n",
       "      <td>Iris-setosa</td>\n",
       "    </tr>\n",
       "    <tr>\n",
       "      <th>...</th>\n",
       "      <td>...</td>\n",
       "      <td>...</td>\n",
       "    </tr>\n",
       "    <tr>\n",
       "      <th>145</th>\n",
       "      <td>-1.944017</td>\n",
       "      <td>Iris-virginica</td>\n",
       "    </tr>\n",
       "    <tr>\n",
       "      <th>146</th>\n",
       "      <td>-1.525664</td>\n",
       "      <td>Iris-virginica</td>\n",
       "    </tr>\n",
       "    <tr>\n",
       "      <th>147</th>\n",
       "      <td>-1.764046</td>\n",
       "      <td>Iris-virginica</td>\n",
       "    </tr>\n",
       "    <tr>\n",
       "      <th>148</th>\n",
       "      <td>-1.901629</td>\n",
       "      <td>Iris-virginica</td>\n",
       "    </tr>\n",
       "    <tr>\n",
       "      <th>149</th>\n",
       "      <td>-1.389666</td>\n",
       "      <td>Iris-versicolor</td>\n",
       "    </tr>\n",
       "  </tbody>\n",
       "</table>\n",
       "<p>150 rows × 2 columns</p>\n",
       "</div>"
      ],
      "text/plain": [
       "          PC1           target\n",
       "0    2.684207      Iris-setosa\n",
       "1    2.715391      Iris-setosa\n",
       "2    2.889820      Iris-setosa\n",
       "3    2.746437      Iris-setosa\n",
       "4    2.728593      Iris-setosa\n",
       "..        ...              ...\n",
       "145 -1.944017   Iris-virginica\n",
       "146 -1.525664   Iris-virginica\n",
       "147 -1.764046   Iris-virginica\n",
       "148 -1.901629   Iris-virginica\n",
       "149 -1.389666  Iris-versicolor\n",
       "\n",
       "[150 rows x 2 columns]"
      ]
     },
     "execution_count": 145,
     "metadata": {},
     "output_type": "execute_result"
    }
   ],
   "source": [
    "principal1 =PCA(origin, 1)\n",
    "principal1 = pd.DataFrame(principal1 , columns = ['PC1'])\n",
    "Cluseters1 = KMeans(n_clusters=3, random_state=0).fit(principal1)\n",
    "Clusterlabel1 = pd.Series(Cluseters1.labels_)\n",
    "label1 = Clusterlabel1.replace(0,\"Iris-setosa\").replace(1,\"Iris-versicolor\").replace(2,\"Iris-virginica\")\n",
    "principal1  = pd.concat([principal1 , pd.DataFrame({'target' :label1})] , axis = 1)\n",
    "\n",
    "principal1['target'].replace(0,\"Iris-setosa\").replace(1,\"Iris-virginica\").replace(2,\"Iris-versicolor\")\n",
    "principal1"
   ]
  },
  {
   "cell_type": "code",
   "execution_count": 146,
   "id": "683e7af9",
   "metadata": {},
   "outputs": [
    {
     "data": {
      "application/vnd.plotly.v1+json": {
       "config": {
        "plotlyServerURL": "https://plot.ly"
       },
       "data": [
        {
         "hovertemplate": "color=Iris-setosa<br>x=%{x}<br>y=%{y}<extra></extra>",
         "legendgroup": "Iris-setosa",
         "marker": {
          "color": "red",
          "symbol": "circle"
         },
         "mode": "markers",
         "name": "Iris-setosa",
         "orientation": "h",
         "showlegend": true,
         "type": "scatter",
         "x": [
          2.6842071251039474,
          2.7153906156341296,
          2.889819539617916,
          2.746437197308734,
          2.728592981831314,
          2.2798973610095965,
          2.820890682180629,
          2.626481993323818,
          2.8879585653356337,
          2.67384468671912,
          2.5065267893389027,
          2.613142718271056,
          2.7874339759970965,
          3.2252004462749797,
          2.6435432169411452,
          2.383869323799374,
          2.6225262031258074,
          2.6483227324791256,
          2.1990779614307616,
          2.587346188917737,
          2.310531701313133,
          2.543234907303694,
          3.2158576949001043,
          2.303128537663882,
          2.356171086683897,
          2.50791722683788,
          2.469055997545122,
          2.562390946836749,
          2.639821268376581,
          2.632847908030757,
          2.5884620513033907,
          2.4100773371215944,
          2.6476366733968995,
          2.597159477075917,
          2.67384468671912,
          2.8669998469325337,
          2.6252284646804203,
          2.67384468671912,
          2.9818426648539074,
          2.590323025585673,
          2.7701389107463235,
          2.852211081566391,
          2.99829644283235,
          2.4055141012847003,
          2.208832954176705,
          2.7156651907474534,
          2.537573371013506,
          2.8403212968270077,
          2.542685757077048,
          2.7039123148636497
         ],
         "xaxis": "x",
         "y": [
          0,
          1,
          2,
          3,
          4,
          5,
          6,
          7,
          8,
          9,
          10,
          11,
          12,
          13,
          14,
          15,
          16,
          17,
          18,
          19,
          20,
          21,
          22,
          23,
          24,
          25,
          26,
          27,
          28,
          29,
          30,
          31,
          32,
          33,
          34,
          35,
          36,
          37,
          38,
          39,
          40,
          41,
          42,
          43,
          44,
          45,
          46,
          47,
          48,
          49
         ],
         "yaxis": "y"
        },
        {
         "hovertemplate": "color=Iris-versicolor<br>x=%{x}<br>y=%{y}<extra></extra>",
         "legendgroup": "Iris-versicolor",
         "marker": {
          "color": "yellow",
          "symbol": "circle"
         },
         "mode": "markers",
         "name": "Iris-versicolor",
         "orientation": "h",
         "showlegend": true,
         "type": "scatter",
         "x": [
          -1.2847945878450713,
          -0.9324107529829176,
          -1.464061322779075,
          -0.18096720634769864,
          -1.0871344872070006,
          -0.6404367495231452,
          -1.0952237099384783,
          0.7514671406482267,
          -1.0432977807062809,
          0.010190070727853356,
          0.5110861958950904,
          -0.5110980606834774,
          -0.2623357561531802,
          -0.9840445451694306,
          0.17486400196569601,
          -0.9275729420326997,
          -0.6595927890562003,
          -0.23454058625983543,
          -0.942361707398842,
          -0.043246400328704644,
          -1.1162407237538154,
          -0.35678656783046125,
          -1.2964688502855337,
          -0.920502648909009,
          -0.7140082136428331,
          -0.899640863283776,
          -1.3310414188547195,
          -0.8124555489980019,
          0.3073347556634041,
          0.0703428889492716,
          0.19188449210314562,
          -0.13499495045137333,
          -1.3787369827755824,
          -0.5872748535799106,
          -0.8072054966767163,
          -1.2204289662446794,
          -0.8128677903690698,
          -0.24519516169034583,
          -0.16451342836925575,
          -0.4630309888714239,
          -0.890160445651156,
          -0.22887904996964759,
          0.7070812839208603,
          -0.35553303918706336,
          -0.33112694733272263,
          -0.37523822894676573,
          -0.6416902781665431,
          0.9084633331234949,
          -0.2978079074069339,
          -1.414072225173757,
          -0.5193832450849359,
          -1.3445942175098242,
          -1.2983298245678156,
          -1.1980973722749622,
          -1.3876682501815556,
          -1.2576251829251364,
          -1.2906696477376014,
          -1.4431026043759743,
          -1.1688534694704031,
          -1.414072225173757,
          -1.3896661333194165
         ],
         "xaxis": "x",
         "y": [
          50,
          51,
          52,
          53,
          54,
          55,
          56,
          57,
          58,
          59,
          60,
          61,
          62,
          63,
          64,
          65,
          66,
          67,
          68,
          69,
          70,
          71,
          72,
          73,
          74,
          75,
          76,
          78,
          79,
          80,
          81,
          82,
          83,
          84,
          85,
          86,
          87,
          88,
          89,
          90,
          91,
          92,
          93,
          94,
          95,
          96,
          97,
          98,
          99,
          101,
          106,
          113,
          119,
          121,
          123,
          126,
          127,
          133,
          138,
          142,
          149
         ],
         "yaxis": "y"
        },
        {
         "hovertemplate": "color=Iris-virginica<br>x=%{x}<br>y=%{y}<extra></extra>",
         "legendgroup": "Iris-virginica",
         "marker": {
          "color": "darkviolet",
          "symbol": "circle"
         },
         "mode": "markers",
         "name": "Iris-virginica",
         "orientation": "h",
         "showlegend": true,
         "type": "scatter",
         "x": [
          -1.5573962720707022,
          -2.5317269804395575,
          -2.616484608284043,
          -1.9708149459064814,
          -2.349757983950942,
          -3.396879920678137,
          -2.932005096991301,
          -2.319672793874053,
          -2.918134233644251,
          -1.6619349470194864,
          -1.8023404526607327,
          -2.165378862953397,
          -1.5852672993086436,
          -1.9047435782139117,
          -1.9492487818644977,
          -3.488765379656386,
          -3.7946868612099696,
          -2.428167259020848,
          -3.499265484298957,
          -2.275853649305694,
          -2.6141938306983334,
          -2.122853980508313,
          -2.3875644023690272,
          -2.840960925285383,
          -3.232342898295874,
          -2.1587383731331347,
          -1.7796401068985692,
          -3.076521621020661,
          -2.144986856709304,
          -1.9048629251371312,
          -2.107653731173268,
          -2.314303394629548,
          -1.9224508848357524,
          -2.5633227123408084,
          -2.41939121980498,
          -1.944017048877737,
          -1.5256636313138725,
          -1.7640459355269824,
          -1.901629075288232
         ],
         "xaxis": "x",
         "y": [
          77,
          100,
          102,
          103,
          104,
          105,
          107,
          108,
          109,
          110,
          111,
          112,
          114,
          115,
          116,
          117,
          118,
          120,
          122,
          124,
          125,
          128,
          129,
          130,
          131,
          132,
          134,
          135,
          136,
          137,
          139,
          140,
          141,
          143,
          144,
          145,
          146,
          147,
          148
         ],
         "yaxis": "y"
        }
       ],
       "layout": {
        "legend": {
         "title": {
          "text": "color"
         },
         "tracegroupgap": 0
        },
        "margin": {
         "t": 60
        },
        "template": {
         "data": {
          "bar": [
           {
            "error_x": {
             "color": "#2a3f5f"
            },
            "error_y": {
             "color": "#2a3f5f"
            },
            "marker": {
             "line": {
              "color": "#E5ECF6",
              "width": 0.5
             },
             "pattern": {
              "fillmode": "overlay",
              "size": 10,
              "solidity": 0.2
             }
            },
            "type": "bar"
           }
          ],
          "barpolar": [
           {
            "marker": {
             "line": {
              "color": "#E5ECF6",
              "width": 0.5
             },
             "pattern": {
              "fillmode": "overlay",
              "size": 10,
              "solidity": 0.2
             }
            },
            "type": "barpolar"
           }
          ],
          "carpet": [
           {
            "aaxis": {
             "endlinecolor": "#2a3f5f",
             "gridcolor": "white",
             "linecolor": "white",
             "minorgridcolor": "white",
             "startlinecolor": "#2a3f5f"
            },
            "baxis": {
             "endlinecolor": "#2a3f5f",
             "gridcolor": "white",
             "linecolor": "white",
             "minorgridcolor": "white",
             "startlinecolor": "#2a3f5f"
            },
            "type": "carpet"
           }
          ],
          "choropleth": [
           {
            "colorbar": {
             "outlinewidth": 0,
             "ticks": ""
            },
            "type": "choropleth"
           }
          ],
          "contour": [
           {
            "colorbar": {
             "outlinewidth": 0,
             "ticks": ""
            },
            "colorscale": [
             [
              0,
              "#0d0887"
             ],
             [
              0.1111111111111111,
              "#46039f"
             ],
             [
              0.2222222222222222,
              "#7201a8"
             ],
             [
              0.3333333333333333,
              "#9c179e"
             ],
             [
              0.4444444444444444,
              "#bd3786"
             ],
             [
              0.5555555555555556,
              "#d8576b"
             ],
             [
              0.6666666666666666,
              "#ed7953"
             ],
             [
              0.7777777777777778,
              "#fb9f3a"
             ],
             [
              0.8888888888888888,
              "#fdca26"
             ],
             [
              1,
              "#f0f921"
             ]
            ],
            "type": "contour"
           }
          ],
          "contourcarpet": [
           {
            "colorbar": {
             "outlinewidth": 0,
             "ticks": ""
            },
            "type": "contourcarpet"
           }
          ],
          "heatmap": [
           {
            "colorbar": {
             "outlinewidth": 0,
             "ticks": ""
            },
            "colorscale": [
             [
              0,
              "#0d0887"
             ],
             [
              0.1111111111111111,
              "#46039f"
             ],
             [
              0.2222222222222222,
              "#7201a8"
             ],
             [
              0.3333333333333333,
              "#9c179e"
             ],
             [
              0.4444444444444444,
              "#bd3786"
             ],
             [
              0.5555555555555556,
              "#d8576b"
             ],
             [
              0.6666666666666666,
              "#ed7953"
             ],
             [
              0.7777777777777778,
              "#fb9f3a"
             ],
             [
              0.8888888888888888,
              "#fdca26"
             ],
             [
              1,
              "#f0f921"
             ]
            ],
            "type": "heatmap"
           }
          ],
          "heatmapgl": [
           {
            "colorbar": {
             "outlinewidth": 0,
             "ticks": ""
            },
            "colorscale": [
             [
              0,
              "#0d0887"
             ],
             [
              0.1111111111111111,
              "#46039f"
             ],
             [
              0.2222222222222222,
              "#7201a8"
             ],
             [
              0.3333333333333333,
              "#9c179e"
             ],
             [
              0.4444444444444444,
              "#bd3786"
             ],
             [
              0.5555555555555556,
              "#d8576b"
             ],
             [
              0.6666666666666666,
              "#ed7953"
             ],
             [
              0.7777777777777778,
              "#fb9f3a"
             ],
             [
              0.8888888888888888,
              "#fdca26"
             ],
             [
              1,
              "#f0f921"
             ]
            ],
            "type": "heatmapgl"
           }
          ],
          "histogram": [
           {
            "marker": {
             "pattern": {
              "fillmode": "overlay",
              "size": 10,
              "solidity": 0.2
             }
            },
            "type": "histogram"
           }
          ],
          "histogram2d": [
           {
            "colorbar": {
             "outlinewidth": 0,
             "ticks": ""
            },
            "colorscale": [
             [
              0,
              "#0d0887"
             ],
             [
              0.1111111111111111,
              "#46039f"
             ],
             [
              0.2222222222222222,
              "#7201a8"
             ],
             [
              0.3333333333333333,
              "#9c179e"
             ],
             [
              0.4444444444444444,
              "#bd3786"
             ],
             [
              0.5555555555555556,
              "#d8576b"
             ],
             [
              0.6666666666666666,
              "#ed7953"
             ],
             [
              0.7777777777777778,
              "#fb9f3a"
             ],
             [
              0.8888888888888888,
              "#fdca26"
             ],
             [
              1,
              "#f0f921"
             ]
            ],
            "type": "histogram2d"
           }
          ],
          "histogram2dcontour": [
           {
            "colorbar": {
             "outlinewidth": 0,
             "ticks": ""
            },
            "colorscale": [
             [
              0,
              "#0d0887"
             ],
             [
              0.1111111111111111,
              "#46039f"
             ],
             [
              0.2222222222222222,
              "#7201a8"
             ],
             [
              0.3333333333333333,
              "#9c179e"
             ],
             [
              0.4444444444444444,
              "#bd3786"
             ],
             [
              0.5555555555555556,
              "#d8576b"
             ],
             [
              0.6666666666666666,
              "#ed7953"
             ],
             [
              0.7777777777777778,
              "#fb9f3a"
             ],
             [
              0.8888888888888888,
              "#fdca26"
             ],
             [
              1,
              "#f0f921"
             ]
            ],
            "type": "histogram2dcontour"
           }
          ],
          "mesh3d": [
           {
            "colorbar": {
             "outlinewidth": 0,
             "ticks": ""
            },
            "type": "mesh3d"
           }
          ],
          "parcoords": [
           {
            "line": {
             "colorbar": {
              "outlinewidth": 0,
              "ticks": ""
             }
            },
            "type": "parcoords"
           }
          ],
          "pie": [
           {
            "automargin": true,
            "type": "pie"
           }
          ],
          "scatter": [
           {
            "fillpattern": {
             "fillmode": "overlay",
             "size": 10,
             "solidity": 0.2
            },
            "type": "scatter"
           }
          ],
          "scatter3d": [
           {
            "line": {
             "colorbar": {
              "outlinewidth": 0,
              "ticks": ""
             }
            },
            "marker": {
             "colorbar": {
              "outlinewidth": 0,
              "ticks": ""
             }
            },
            "type": "scatter3d"
           }
          ],
          "scattercarpet": [
           {
            "marker": {
             "colorbar": {
              "outlinewidth": 0,
              "ticks": ""
             }
            },
            "type": "scattercarpet"
           }
          ],
          "scattergeo": [
           {
            "marker": {
             "colorbar": {
              "outlinewidth": 0,
              "ticks": ""
             }
            },
            "type": "scattergeo"
           }
          ],
          "scattergl": [
           {
            "marker": {
             "colorbar": {
              "outlinewidth": 0,
              "ticks": ""
             }
            },
            "type": "scattergl"
           }
          ],
          "scattermapbox": [
           {
            "marker": {
             "colorbar": {
              "outlinewidth": 0,
              "ticks": ""
             }
            },
            "type": "scattermapbox"
           }
          ],
          "scatterpolar": [
           {
            "marker": {
             "colorbar": {
              "outlinewidth": 0,
              "ticks": ""
             }
            },
            "type": "scatterpolar"
           }
          ],
          "scatterpolargl": [
           {
            "marker": {
             "colorbar": {
              "outlinewidth": 0,
              "ticks": ""
             }
            },
            "type": "scatterpolargl"
           }
          ],
          "scatterternary": [
           {
            "marker": {
             "colorbar": {
              "outlinewidth": 0,
              "ticks": ""
             }
            },
            "type": "scatterternary"
           }
          ],
          "surface": [
           {
            "colorbar": {
             "outlinewidth": 0,
             "ticks": ""
            },
            "colorscale": [
             [
              0,
              "#0d0887"
             ],
             [
              0.1111111111111111,
              "#46039f"
             ],
             [
              0.2222222222222222,
              "#7201a8"
             ],
             [
              0.3333333333333333,
              "#9c179e"
             ],
             [
              0.4444444444444444,
              "#bd3786"
             ],
             [
              0.5555555555555556,
              "#d8576b"
             ],
             [
              0.6666666666666666,
              "#ed7953"
             ],
             [
              0.7777777777777778,
              "#fb9f3a"
             ],
             [
              0.8888888888888888,
              "#fdca26"
             ],
             [
              1,
              "#f0f921"
             ]
            ],
            "type": "surface"
           }
          ],
          "table": [
           {
            "cells": {
             "fill": {
              "color": "#EBF0F8"
             },
             "line": {
              "color": "white"
             }
            },
            "header": {
             "fill": {
              "color": "#C8D4E3"
             },
             "line": {
              "color": "white"
             }
            },
            "type": "table"
           }
          ]
         },
         "layout": {
          "annotationdefaults": {
           "arrowcolor": "#2a3f5f",
           "arrowhead": 0,
           "arrowwidth": 1
          },
          "autotypenumbers": "strict",
          "coloraxis": {
           "colorbar": {
            "outlinewidth": 0,
            "ticks": ""
           }
          },
          "colorscale": {
           "diverging": [
            [
             0,
             "#8e0152"
            ],
            [
             0.1,
             "#c51b7d"
            ],
            [
             0.2,
             "#de77ae"
            ],
            [
             0.3,
             "#f1b6da"
            ],
            [
             0.4,
             "#fde0ef"
            ],
            [
             0.5,
             "#f7f7f7"
            ],
            [
             0.6,
             "#e6f5d0"
            ],
            [
             0.7,
             "#b8e186"
            ],
            [
             0.8,
             "#7fbc41"
            ],
            [
             0.9,
             "#4d9221"
            ],
            [
             1,
             "#276419"
            ]
           ],
           "sequential": [
            [
             0,
             "#0d0887"
            ],
            [
             0.1111111111111111,
             "#46039f"
            ],
            [
             0.2222222222222222,
             "#7201a8"
            ],
            [
             0.3333333333333333,
             "#9c179e"
            ],
            [
             0.4444444444444444,
             "#bd3786"
            ],
            [
             0.5555555555555556,
             "#d8576b"
            ],
            [
             0.6666666666666666,
             "#ed7953"
            ],
            [
             0.7777777777777778,
             "#fb9f3a"
            ],
            [
             0.8888888888888888,
             "#fdca26"
            ],
            [
             1,
             "#f0f921"
            ]
           ],
           "sequentialminus": [
            [
             0,
             "#0d0887"
            ],
            [
             0.1111111111111111,
             "#46039f"
            ],
            [
             0.2222222222222222,
             "#7201a8"
            ],
            [
             0.3333333333333333,
             "#9c179e"
            ],
            [
             0.4444444444444444,
             "#bd3786"
            ],
            [
             0.5555555555555556,
             "#d8576b"
            ],
            [
             0.6666666666666666,
             "#ed7953"
            ],
            [
             0.7777777777777778,
             "#fb9f3a"
            ],
            [
             0.8888888888888888,
             "#fdca26"
            ],
            [
             1,
             "#f0f921"
            ]
           ]
          },
          "colorway": [
           "#636efa",
           "#EF553B",
           "#00cc96",
           "#ab63fa",
           "#FFA15A",
           "#19d3f3",
           "#FF6692",
           "#B6E880",
           "#FF97FF",
           "#FECB52"
          ],
          "font": {
           "color": "#2a3f5f"
          },
          "geo": {
           "bgcolor": "white",
           "lakecolor": "white",
           "landcolor": "#E5ECF6",
           "showlakes": true,
           "showland": true,
           "subunitcolor": "white"
          },
          "hoverlabel": {
           "align": "left"
          },
          "hovermode": "closest",
          "mapbox": {
           "style": "light"
          },
          "paper_bgcolor": "white",
          "plot_bgcolor": "#E5ECF6",
          "polar": {
           "angularaxis": {
            "gridcolor": "white",
            "linecolor": "white",
            "ticks": ""
           },
           "bgcolor": "#E5ECF6",
           "radialaxis": {
            "gridcolor": "white",
            "linecolor": "white",
            "ticks": ""
           }
          },
          "scene": {
           "xaxis": {
            "backgroundcolor": "#E5ECF6",
            "gridcolor": "white",
            "gridwidth": 2,
            "linecolor": "white",
            "showbackground": true,
            "ticks": "",
            "zerolinecolor": "white"
           },
           "yaxis": {
            "backgroundcolor": "#E5ECF6",
            "gridcolor": "white",
            "gridwidth": 2,
            "linecolor": "white",
            "showbackground": true,
            "ticks": "",
            "zerolinecolor": "white"
           },
           "zaxis": {
            "backgroundcolor": "#E5ECF6",
            "gridcolor": "white",
            "gridwidth": 2,
            "linecolor": "white",
            "showbackground": true,
            "ticks": "",
            "zerolinecolor": "white"
           }
          },
          "shapedefaults": {
           "line": {
            "color": "#2a3f5f"
           }
          },
          "ternary": {
           "aaxis": {
            "gridcolor": "white",
            "linecolor": "white",
            "ticks": ""
           },
           "baxis": {
            "gridcolor": "white",
            "linecolor": "white",
            "ticks": ""
           },
           "bgcolor": "#E5ECF6",
           "caxis": {
            "gridcolor": "white",
            "linecolor": "white",
            "ticks": ""
           }
          },
          "title": {
           "x": 0.05
          },
          "xaxis": {
           "automargin": true,
           "gridcolor": "white",
           "linecolor": "white",
           "ticks": "",
           "title": {
            "standoff": 15
           },
           "zerolinecolor": "white",
           "zerolinewidth": 2
          },
          "yaxis": {
           "automargin": true,
           "gridcolor": "white",
           "linecolor": "white",
           "ticks": "",
           "title": {
            "standoff": 15
           },
           "zerolinecolor": "white",
           "zerolinewidth": 2
          }
         }
        },
        "xaxis": {
         "anchor": "y",
         "domain": [
          0,
          1
         ],
         "title": {
          "text": "x"
         }
        },
        "yaxis": {
         "anchor": "x",
         "domain": [
          0,
          1
         ],
         "title": {
          "text": "y"
         }
        }
       }
      },
      "text/html": [
       "<div>                            <div id=\"799483e8-dd84-43e1-bcc0-e47dc7d88814\" class=\"plotly-graph-div\" style=\"height:525px; width:100%;\"></div>            <script type=\"text/javascript\">                require([\"plotly\"], function(Plotly) {                    window.PLOTLYENV=window.PLOTLYENV || {};                                    if (document.getElementById(\"799483e8-dd84-43e1-bcc0-e47dc7d88814\")) {                    Plotly.newPlot(                        \"799483e8-dd84-43e1-bcc0-e47dc7d88814\",                        [{\"hovertemplate\":\"color=Iris-setosa<br>x=%{x}<br>y=%{y}<extra></extra>\",\"legendgroup\":\"Iris-setosa\",\"marker\":{\"color\":\"red\",\"symbol\":\"circle\"},\"mode\":\"markers\",\"name\":\"Iris-setosa\",\"orientation\":\"h\",\"showlegend\":true,\"x\":[2.6842071251039474,2.7153906156341296,2.889819539617916,2.746437197308734,2.728592981831314,2.2798973610095965,2.820890682180629,2.626481993323818,2.8879585653356337,2.67384468671912,2.5065267893389027,2.613142718271056,2.7874339759970965,3.2252004462749797,2.6435432169411452,2.383869323799374,2.6225262031258074,2.6483227324791256,2.1990779614307616,2.587346188917737,2.310531701313133,2.543234907303694,3.2158576949001043,2.303128537663882,2.356171086683897,2.50791722683788,2.469055997545122,2.562390946836749,2.639821268376581,2.632847908030757,2.5884620513033907,2.4100773371215944,2.6476366733968995,2.597159477075917,2.67384468671912,2.8669998469325337,2.6252284646804203,2.67384468671912,2.9818426648539074,2.590323025585673,2.7701389107463235,2.852211081566391,2.99829644283235,2.4055141012847003,2.208832954176705,2.7156651907474534,2.537573371013506,2.8403212968270077,2.542685757077048,2.7039123148636497],\"xaxis\":\"x\",\"y\":[0,1,2,3,4,5,6,7,8,9,10,11,12,13,14,15,16,17,18,19,20,21,22,23,24,25,26,27,28,29,30,31,32,33,34,35,36,37,38,39,40,41,42,43,44,45,46,47,48,49],\"yaxis\":\"y\",\"type\":\"scatter\"},{\"hovertemplate\":\"color=Iris-versicolor<br>x=%{x}<br>y=%{y}<extra></extra>\",\"legendgroup\":\"Iris-versicolor\",\"marker\":{\"color\":\"yellow\",\"symbol\":\"circle\"},\"mode\":\"markers\",\"name\":\"Iris-versicolor\",\"orientation\":\"h\",\"showlegend\":true,\"x\":[-1.2847945878450713,-0.9324107529829176,-1.464061322779075,-0.18096720634769864,-1.0871344872070006,-0.6404367495231452,-1.0952237099384783,0.7514671406482267,-1.0432977807062809,0.010190070727853356,0.5110861958950904,-0.5110980606834774,-0.2623357561531802,-0.9840445451694306,0.17486400196569601,-0.9275729420326997,-0.6595927890562003,-0.23454058625983543,-0.942361707398842,-0.043246400328704644,-1.1162407237538154,-0.35678656783046125,-1.2964688502855337,-0.920502648909009,-0.7140082136428331,-0.899640863283776,-1.3310414188547195,-0.8124555489980019,0.3073347556634041,0.0703428889492716,0.19188449210314562,-0.13499495045137333,-1.3787369827755824,-0.5872748535799106,-0.8072054966767163,-1.2204289662446794,-0.8128677903690698,-0.24519516169034583,-0.16451342836925575,-0.4630309888714239,-0.890160445651156,-0.22887904996964759,0.7070812839208603,-0.35553303918706336,-0.33112694733272263,-0.37523822894676573,-0.6416902781665431,0.9084633331234949,-0.2978079074069339,-1.414072225173757,-0.5193832450849359,-1.3445942175098242,-1.2983298245678156,-1.1980973722749622,-1.3876682501815556,-1.2576251829251364,-1.2906696477376014,-1.4431026043759743,-1.1688534694704031,-1.414072225173757,-1.3896661333194165],\"xaxis\":\"x\",\"y\":[50,51,52,53,54,55,56,57,58,59,60,61,62,63,64,65,66,67,68,69,70,71,72,73,74,75,76,78,79,80,81,82,83,84,85,86,87,88,89,90,91,92,93,94,95,96,97,98,99,101,106,113,119,121,123,126,127,133,138,142,149],\"yaxis\":\"y\",\"type\":\"scatter\"},{\"hovertemplate\":\"color=Iris-virginica<br>x=%{x}<br>y=%{y}<extra></extra>\",\"legendgroup\":\"Iris-virginica\",\"marker\":{\"color\":\"darkviolet\",\"symbol\":\"circle\"},\"mode\":\"markers\",\"name\":\"Iris-virginica\",\"orientation\":\"h\",\"showlegend\":true,\"x\":[-1.5573962720707022,-2.5317269804395575,-2.616484608284043,-1.9708149459064814,-2.349757983950942,-3.396879920678137,-2.932005096991301,-2.319672793874053,-2.918134233644251,-1.6619349470194864,-1.8023404526607327,-2.165378862953397,-1.5852672993086436,-1.9047435782139117,-1.9492487818644977,-3.488765379656386,-3.7946868612099696,-2.428167259020848,-3.499265484298957,-2.275853649305694,-2.6141938306983334,-2.122853980508313,-2.3875644023690272,-2.840960925285383,-3.232342898295874,-2.1587383731331347,-1.7796401068985692,-3.076521621020661,-2.144986856709304,-1.9048629251371312,-2.107653731173268,-2.314303394629548,-1.9224508848357524,-2.5633227123408084,-2.41939121980498,-1.944017048877737,-1.5256636313138725,-1.7640459355269824,-1.901629075288232],\"xaxis\":\"x\",\"y\":[77,100,102,103,104,105,107,108,109,110,111,112,114,115,116,117,118,120,122,124,125,128,129,130,131,132,134,135,136,137,139,140,141,143,144,145,146,147,148],\"yaxis\":\"y\",\"type\":\"scatter\"}],                        {\"template\":{\"data\":{\"histogram2dcontour\":[{\"type\":\"histogram2dcontour\",\"colorbar\":{\"outlinewidth\":0,\"ticks\":\"\"},\"colorscale\":[[0.0,\"#0d0887\"],[0.1111111111111111,\"#46039f\"],[0.2222222222222222,\"#7201a8\"],[0.3333333333333333,\"#9c179e\"],[0.4444444444444444,\"#bd3786\"],[0.5555555555555556,\"#d8576b\"],[0.6666666666666666,\"#ed7953\"],[0.7777777777777778,\"#fb9f3a\"],[0.8888888888888888,\"#fdca26\"],[1.0,\"#f0f921\"]]}],\"choropleth\":[{\"type\":\"choropleth\",\"colorbar\":{\"outlinewidth\":0,\"ticks\":\"\"}}],\"histogram2d\":[{\"type\":\"histogram2d\",\"colorbar\":{\"outlinewidth\":0,\"ticks\":\"\"},\"colorscale\":[[0.0,\"#0d0887\"],[0.1111111111111111,\"#46039f\"],[0.2222222222222222,\"#7201a8\"],[0.3333333333333333,\"#9c179e\"],[0.4444444444444444,\"#bd3786\"],[0.5555555555555556,\"#d8576b\"],[0.6666666666666666,\"#ed7953\"],[0.7777777777777778,\"#fb9f3a\"],[0.8888888888888888,\"#fdca26\"],[1.0,\"#f0f921\"]]}],\"heatmap\":[{\"type\":\"heatmap\",\"colorbar\":{\"outlinewidth\":0,\"ticks\":\"\"},\"colorscale\":[[0.0,\"#0d0887\"],[0.1111111111111111,\"#46039f\"],[0.2222222222222222,\"#7201a8\"],[0.3333333333333333,\"#9c179e\"],[0.4444444444444444,\"#bd3786\"],[0.5555555555555556,\"#d8576b\"],[0.6666666666666666,\"#ed7953\"],[0.7777777777777778,\"#fb9f3a\"],[0.8888888888888888,\"#fdca26\"],[1.0,\"#f0f921\"]]}],\"heatmapgl\":[{\"type\":\"heatmapgl\",\"colorbar\":{\"outlinewidth\":0,\"ticks\":\"\"},\"colorscale\":[[0.0,\"#0d0887\"],[0.1111111111111111,\"#46039f\"],[0.2222222222222222,\"#7201a8\"],[0.3333333333333333,\"#9c179e\"],[0.4444444444444444,\"#bd3786\"],[0.5555555555555556,\"#d8576b\"],[0.6666666666666666,\"#ed7953\"],[0.7777777777777778,\"#fb9f3a\"],[0.8888888888888888,\"#fdca26\"],[1.0,\"#f0f921\"]]}],\"contourcarpet\":[{\"type\":\"contourcarpet\",\"colorbar\":{\"outlinewidth\":0,\"ticks\":\"\"}}],\"contour\":[{\"type\":\"contour\",\"colorbar\":{\"outlinewidth\":0,\"ticks\":\"\"},\"colorscale\":[[0.0,\"#0d0887\"],[0.1111111111111111,\"#46039f\"],[0.2222222222222222,\"#7201a8\"],[0.3333333333333333,\"#9c179e\"],[0.4444444444444444,\"#bd3786\"],[0.5555555555555556,\"#d8576b\"],[0.6666666666666666,\"#ed7953\"],[0.7777777777777778,\"#fb9f3a\"],[0.8888888888888888,\"#fdca26\"],[1.0,\"#f0f921\"]]}],\"surface\":[{\"type\":\"surface\",\"colorbar\":{\"outlinewidth\":0,\"ticks\":\"\"},\"colorscale\":[[0.0,\"#0d0887\"],[0.1111111111111111,\"#46039f\"],[0.2222222222222222,\"#7201a8\"],[0.3333333333333333,\"#9c179e\"],[0.4444444444444444,\"#bd3786\"],[0.5555555555555556,\"#d8576b\"],[0.6666666666666666,\"#ed7953\"],[0.7777777777777778,\"#fb9f3a\"],[0.8888888888888888,\"#fdca26\"],[1.0,\"#f0f921\"]]}],\"mesh3d\":[{\"type\":\"mesh3d\",\"colorbar\":{\"outlinewidth\":0,\"ticks\":\"\"}}],\"scatter\":[{\"fillpattern\":{\"fillmode\":\"overlay\",\"size\":10,\"solidity\":0.2},\"type\":\"scatter\"}],\"parcoords\":[{\"type\":\"parcoords\",\"line\":{\"colorbar\":{\"outlinewidth\":0,\"ticks\":\"\"}}}],\"scatterpolargl\":[{\"type\":\"scatterpolargl\",\"marker\":{\"colorbar\":{\"outlinewidth\":0,\"ticks\":\"\"}}}],\"bar\":[{\"error_x\":{\"color\":\"#2a3f5f\"},\"error_y\":{\"color\":\"#2a3f5f\"},\"marker\":{\"line\":{\"color\":\"#E5ECF6\",\"width\":0.5},\"pattern\":{\"fillmode\":\"overlay\",\"size\":10,\"solidity\":0.2}},\"type\":\"bar\"}],\"scattergeo\":[{\"type\":\"scattergeo\",\"marker\":{\"colorbar\":{\"outlinewidth\":0,\"ticks\":\"\"}}}],\"scatterpolar\":[{\"type\":\"scatterpolar\",\"marker\":{\"colorbar\":{\"outlinewidth\":0,\"ticks\":\"\"}}}],\"histogram\":[{\"marker\":{\"pattern\":{\"fillmode\":\"overlay\",\"size\":10,\"solidity\":0.2}},\"type\":\"histogram\"}],\"scattergl\":[{\"type\":\"scattergl\",\"marker\":{\"colorbar\":{\"outlinewidth\":0,\"ticks\":\"\"}}}],\"scatter3d\":[{\"type\":\"scatter3d\",\"line\":{\"colorbar\":{\"outlinewidth\":0,\"ticks\":\"\"}},\"marker\":{\"colorbar\":{\"outlinewidth\":0,\"ticks\":\"\"}}}],\"scattermapbox\":[{\"type\":\"scattermapbox\",\"marker\":{\"colorbar\":{\"outlinewidth\":0,\"ticks\":\"\"}}}],\"scatterternary\":[{\"type\":\"scatterternary\",\"marker\":{\"colorbar\":{\"outlinewidth\":0,\"ticks\":\"\"}}}],\"scattercarpet\":[{\"type\":\"scattercarpet\",\"marker\":{\"colorbar\":{\"outlinewidth\":0,\"ticks\":\"\"}}}],\"carpet\":[{\"aaxis\":{\"endlinecolor\":\"#2a3f5f\",\"gridcolor\":\"white\",\"linecolor\":\"white\",\"minorgridcolor\":\"white\",\"startlinecolor\":\"#2a3f5f\"},\"baxis\":{\"endlinecolor\":\"#2a3f5f\",\"gridcolor\":\"white\",\"linecolor\":\"white\",\"minorgridcolor\":\"white\",\"startlinecolor\":\"#2a3f5f\"},\"type\":\"carpet\"}],\"table\":[{\"cells\":{\"fill\":{\"color\":\"#EBF0F8\"},\"line\":{\"color\":\"white\"}},\"header\":{\"fill\":{\"color\":\"#C8D4E3\"},\"line\":{\"color\":\"white\"}},\"type\":\"table\"}],\"barpolar\":[{\"marker\":{\"line\":{\"color\":\"#E5ECF6\",\"width\":0.5},\"pattern\":{\"fillmode\":\"overlay\",\"size\":10,\"solidity\":0.2}},\"type\":\"barpolar\"}],\"pie\":[{\"automargin\":true,\"type\":\"pie\"}]},\"layout\":{\"autotypenumbers\":\"strict\",\"colorway\":[\"#636efa\",\"#EF553B\",\"#00cc96\",\"#ab63fa\",\"#FFA15A\",\"#19d3f3\",\"#FF6692\",\"#B6E880\",\"#FF97FF\",\"#FECB52\"],\"font\":{\"color\":\"#2a3f5f\"},\"hovermode\":\"closest\",\"hoverlabel\":{\"align\":\"left\"},\"paper_bgcolor\":\"white\",\"plot_bgcolor\":\"#E5ECF6\",\"polar\":{\"bgcolor\":\"#E5ECF6\",\"angularaxis\":{\"gridcolor\":\"white\",\"linecolor\":\"white\",\"ticks\":\"\"},\"radialaxis\":{\"gridcolor\":\"white\",\"linecolor\":\"white\",\"ticks\":\"\"}},\"ternary\":{\"bgcolor\":\"#E5ECF6\",\"aaxis\":{\"gridcolor\":\"white\",\"linecolor\":\"white\",\"ticks\":\"\"},\"baxis\":{\"gridcolor\":\"white\",\"linecolor\":\"white\",\"ticks\":\"\"},\"caxis\":{\"gridcolor\":\"white\",\"linecolor\":\"white\",\"ticks\":\"\"}},\"coloraxis\":{\"colorbar\":{\"outlinewidth\":0,\"ticks\":\"\"}},\"colorscale\":{\"sequential\":[[0.0,\"#0d0887\"],[0.1111111111111111,\"#46039f\"],[0.2222222222222222,\"#7201a8\"],[0.3333333333333333,\"#9c179e\"],[0.4444444444444444,\"#bd3786\"],[0.5555555555555556,\"#d8576b\"],[0.6666666666666666,\"#ed7953\"],[0.7777777777777778,\"#fb9f3a\"],[0.8888888888888888,\"#fdca26\"],[1.0,\"#f0f921\"]],\"sequentialminus\":[[0.0,\"#0d0887\"],[0.1111111111111111,\"#46039f\"],[0.2222222222222222,\"#7201a8\"],[0.3333333333333333,\"#9c179e\"],[0.4444444444444444,\"#bd3786\"],[0.5555555555555556,\"#d8576b\"],[0.6666666666666666,\"#ed7953\"],[0.7777777777777778,\"#fb9f3a\"],[0.8888888888888888,\"#fdca26\"],[1.0,\"#f0f921\"]],\"diverging\":[[0,\"#8e0152\"],[0.1,\"#c51b7d\"],[0.2,\"#de77ae\"],[0.3,\"#f1b6da\"],[0.4,\"#fde0ef\"],[0.5,\"#f7f7f7\"],[0.6,\"#e6f5d0\"],[0.7,\"#b8e186\"],[0.8,\"#7fbc41\"],[0.9,\"#4d9221\"],[1,\"#276419\"]]},\"xaxis\":{\"gridcolor\":\"white\",\"linecolor\":\"white\",\"ticks\":\"\",\"title\":{\"standoff\":15},\"zerolinecolor\":\"white\",\"automargin\":true,\"zerolinewidth\":2},\"yaxis\":{\"gridcolor\":\"white\",\"linecolor\":\"white\",\"ticks\":\"\",\"title\":{\"standoff\":15},\"zerolinecolor\":\"white\",\"automargin\":true,\"zerolinewidth\":2},\"scene\":{\"xaxis\":{\"backgroundcolor\":\"#E5ECF6\",\"gridcolor\":\"white\",\"linecolor\":\"white\",\"showbackground\":true,\"ticks\":\"\",\"zerolinecolor\":\"white\",\"gridwidth\":2},\"yaxis\":{\"backgroundcolor\":\"#E5ECF6\",\"gridcolor\":\"white\",\"linecolor\":\"white\",\"showbackground\":true,\"ticks\":\"\",\"zerolinecolor\":\"white\",\"gridwidth\":2},\"zaxis\":{\"backgroundcolor\":\"#E5ECF6\",\"gridcolor\":\"white\",\"linecolor\":\"white\",\"showbackground\":true,\"ticks\":\"\",\"zerolinecolor\":\"white\",\"gridwidth\":2}},\"shapedefaults\":{\"line\":{\"color\":\"#2a3f5f\"}},\"annotationdefaults\":{\"arrowcolor\":\"#2a3f5f\",\"arrowhead\":0,\"arrowwidth\":1},\"geo\":{\"bgcolor\":\"white\",\"landcolor\":\"#E5ECF6\",\"subunitcolor\":\"white\",\"showland\":true,\"showlakes\":true,\"lakecolor\":\"white\"},\"title\":{\"x\":0.05},\"mapbox\":{\"style\":\"light\"}}},\"xaxis\":{\"anchor\":\"y\",\"domain\":[0.0,1.0],\"title\":{\"text\":\"x\"}},\"yaxis\":{\"anchor\":\"x\",\"domain\":[0.0,1.0],\"title\":{\"text\":\"y\"}},\"legend\":{\"title\":{\"text\":\"color\"},\"tracegroupgap\":0},\"margin\":{\"t\":60}},                        {\"responsive\": true}                    ).then(function(){\n",
       "                            \n",
       "var gd = document.getElementById('799483e8-dd84-43e1-bcc0-e47dc7d88814');\n",
       "var x = new MutationObserver(function (mutations, observer) {{\n",
       "        var display = window.getComputedStyle(gd).display;\n",
       "        if (!display || display === 'none') {{\n",
       "            console.log([gd, 'removed!']);\n",
       "            Plotly.purge(gd);\n",
       "            observer.disconnect();\n",
       "        }}\n",
       "}});\n",
       "\n",
       "// Listen for the removal of the full notebook cells\n",
       "var notebookContainer = gd.closest('#notebook-container');\n",
       "if (notebookContainer) {{\n",
       "    x.observe(notebookContainer, {childList: true});\n",
       "}}\n",
       "\n",
       "// Listen for the clearing of the current output cell\n",
       "var outputEl = gd.closest('.output');\n",
       "if (outputEl) {{\n",
       "    x.observe(outputEl, {childList: true});\n",
       "}}\n",
       "\n",
       "                        })                };                });            </script>        </div>"
      ]
     },
     "metadata": {},
     "output_type": "display_data"
    }
   ],
   "source": [
    "figprin1 = px.scatter(x=principal1['PC1'],\n",
    "                  color= principal1['target'],\n",
    "                      color_discrete_map={\n",
    "                \"Iris-setosa\": \"red\",\n",
    "                \"Iris-versicolor\": \"yellow\",\n",
    "                \"Iris-virginica\": \"darkviolet\",})\n",
    "\n",
    "figprin1.show()"
   ]
  },
  {
   "cell_type": "code",
   "execution_count": 143,
   "id": "9a260766",
   "metadata": {},
   "outputs": [
    {
     "data": {
      "text/html": [
       "<div>\n",
       "<style scoped>\n",
       "    .dataframe tbody tr th:only-of-type {\n",
       "        vertical-align: middle;\n",
       "    }\n",
       "\n",
       "    .dataframe tbody tr th {\n",
       "        vertical-align: top;\n",
       "    }\n",
       "\n",
       "    .dataframe thead th {\n",
       "        text-align: right;\n",
       "    }\n",
       "</style>\n",
       "<table border=\"1\" class=\"dataframe\">\n",
       "  <thead>\n",
       "    <tr style=\"text-align: right;\">\n",
       "      <th></th>\n",
       "      <th>PC1</th>\n",
       "      <th>PC2</th>\n",
       "      <th>target</th>\n",
       "    </tr>\n",
       "  </thead>\n",
       "  <tbody>\n",
       "    <tr>\n",
       "      <th>0</th>\n",
       "      <td>2.684207</td>\n",
       "      <td>0.326607</td>\n",
       "      <td>Iris-setosa</td>\n",
       "    </tr>\n",
       "    <tr>\n",
       "      <th>1</th>\n",
       "      <td>2.715391</td>\n",
       "      <td>-0.169557</td>\n",
       "      <td>Iris-setosa</td>\n",
       "    </tr>\n",
       "    <tr>\n",
       "      <th>2</th>\n",
       "      <td>2.889820</td>\n",
       "      <td>-0.137346</td>\n",
       "      <td>Iris-setosa</td>\n",
       "    </tr>\n",
       "    <tr>\n",
       "      <th>3</th>\n",
       "      <td>2.746437</td>\n",
       "      <td>-0.311124</td>\n",
       "      <td>Iris-setosa</td>\n",
       "    </tr>\n",
       "    <tr>\n",
       "      <th>4</th>\n",
       "      <td>2.728593</td>\n",
       "      <td>0.333925</td>\n",
       "      <td>Iris-setosa</td>\n",
       "    </tr>\n",
       "    <tr>\n",
       "      <th>...</th>\n",
       "      <td>...</td>\n",
       "      <td>...</td>\n",
       "      <td>...</td>\n",
       "    </tr>\n",
       "    <tr>\n",
       "      <th>145</th>\n",
       "      <td>-1.944017</td>\n",
       "      <td>0.187415</td>\n",
       "      <td>Iris-virginica</td>\n",
       "    </tr>\n",
       "    <tr>\n",
       "      <th>146</th>\n",
       "      <td>-1.525664</td>\n",
       "      <td>-0.375021</td>\n",
       "      <td>Iris-versicolor</td>\n",
       "    </tr>\n",
       "    <tr>\n",
       "      <th>147</th>\n",
       "      <td>-1.764046</td>\n",
       "      <td>0.078519</td>\n",
       "      <td>Iris-virginica</td>\n",
       "    </tr>\n",
       "    <tr>\n",
       "      <th>148</th>\n",
       "      <td>-1.901629</td>\n",
       "      <td>0.115877</td>\n",
       "      <td>Iris-virginica</td>\n",
       "    </tr>\n",
       "    <tr>\n",
       "      <th>149</th>\n",
       "      <td>-1.389666</td>\n",
       "      <td>-0.282887</td>\n",
       "      <td>Iris-versicolor</td>\n",
       "    </tr>\n",
       "  </tbody>\n",
       "</table>\n",
       "<p>150 rows × 3 columns</p>\n",
       "</div>"
      ],
      "text/plain": [
       "          PC1       PC2           target\n",
       "0    2.684207  0.326607      Iris-setosa\n",
       "1    2.715391 -0.169557      Iris-setosa\n",
       "2    2.889820 -0.137346      Iris-setosa\n",
       "3    2.746437 -0.311124      Iris-setosa\n",
       "4    2.728593  0.333925      Iris-setosa\n",
       "..        ...       ...              ...\n",
       "145 -1.944017  0.187415   Iris-virginica\n",
       "146 -1.525664 -0.375021  Iris-versicolor\n",
       "147 -1.764046  0.078519   Iris-virginica\n",
       "148 -1.901629  0.115877   Iris-virginica\n",
       "149 -1.389666 -0.282887  Iris-versicolor\n",
       "\n",
       "[150 rows x 3 columns]"
      ]
     },
     "execution_count": 143,
     "metadata": {},
     "output_type": "execute_result"
    }
   ],
   "source": [
    "principal2 = PCA(origin, 2)\n",
    "principal2 = pd.DataFrame(principal2 , columns = ['PC1','PC2'])\n",
    "Cluseters2 = KMeans(n_clusters=3, random_state=0).fit(principal2)\n",
    "Clusterlabel2 = pd.Series(Cluseters2.labels_)\n",
    "label2 = Clusterlabel2.replace(0,\"Iris-setosa\").replace(1,\"Iris-virginica\").replace(2,\"Iris-versicolor\")\n",
    "principal2  = pd.concat([principal2 , pd.DataFrame({'target' :label2})] , axis = 1)\n",
    "principal2"
   ]
  },
  {
   "cell_type": "code",
   "execution_count": 144,
   "id": "44ed02f3",
   "metadata": {},
   "outputs": [
    {
     "data": {
      "application/vnd.plotly.v1+json": {
       "config": {
        "plotlyServerURL": "https://plot.ly"
       },
       "data": [
        {
         "hovertemplate": "color=Iris-setosa<br>x=%{x}<br>y=%{y}<extra></extra>",
         "legendgroup": "Iris-setosa",
         "marker": {
          "color": "red",
          "symbol": "circle"
         },
         "mode": "markers",
         "name": "Iris-setosa",
         "orientation": "v",
         "showlegend": true,
         "type": "scatter",
         "x": [
          2.6842071251039474,
          2.7153906156341296,
          2.889819539617916,
          2.746437197308734,
          2.728592981831314,
          2.2798973610095965,
          2.820890682180629,
          2.626481993323818,
          2.8879585653356337,
          2.67384468671912,
          2.5065267893389027,
          2.613142718271056,
          2.7874339759970965,
          3.2252004462749797,
          2.6435432169411452,
          2.383869323799374,
          2.6225262031258074,
          2.6483227324791256,
          2.1990779614307616,
          2.587346188917737,
          2.310531701313133,
          2.543234907303694,
          3.2158576949001043,
          2.303128537663882,
          2.356171086683897,
          2.50791722683788,
          2.469055997545122,
          2.562390946836749,
          2.639821268376581,
          2.632847908030757,
          2.5884620513033907,
          2.4100773371215944,
          2.6476366733968995,
          2.597159477075917,
          2.67384468671912,
          2.8669998469325337,
          2.6252284646804203,
          2.67384468671912,
          2.9818426648539074,
          2.590323025585673,
          2.7701389107463235,
          2.852211081566391,
          2.99829644283235,
          2.4055141012847003,
          2.208832954176705,
          2.7156651907474534,
          2.537573371013506,
          2.8403212968270077,
          2.542685757077048,
          2.7039123148636497
         ],
         "xaxis": "x",
         "y": [
          0.32660731476438876,
          -0.1695568475560265,
          -0.137345609605027,
          -0.3111243157519905,
          0.33392456356845623,
          0.7477827132251349,
          -0.08210451102467926,
          0.17040534896029097,
          -0.5707980263315907,
          -0.10669170375273788,
          0.6519350136725727,
          0.021520631960259953,
          -0.22774018887110598,
          -0.5032799094854247,
          1.1861948994134492,
          1.3447543445598638,
          0.8180896745965954,
          0.31913666775088506,
          0.8792440880917368,
          0.5204736388059698,
          0.3978678215888923,
          0.44003175465981625,
          0.1416155716255852,
          0.10552267842998204,
          -0.031209589068335472,
          -0.13905633991317412,
          0.1378873145904184,
          0.3746845627501068,
          0.3192900659603219,
          -0.19007583063362243,
          -0.1973930794376899,
          0.41808000824761515,
          0.8199826325595102,
          1.1000219280072705,
          -0.10669170375273788,
          0.0771930957235867,
          0.6068000084215855,
          -0.10669170375273788,
          -0.4802500488560756,
          0.23605933728887352,
          0.2710594197651676,
          -0.9328653674695467,
          -0.3343075745907755,
          0.19591725769606105,
          0.44269603042100547,
          -0.24268148289811337,
          0.5103675454766083,
          -0.22057633827647527,
          0.5862810253439895,
          0.11501085217050612
         ],
         "yaxis": "y"
        },
        {
         "hovertemplate": "color=Iris-virginica<br>x=%{x}<br>y=%{y}<extra></extra>",
         "legendgroup": "Iris-virginica",
         "marker": {
          "color": "darkviolet",
          "symbol": "circle"
         },
         "mode": "markers",
         "name": "Iris-virginica",
         "orientation": "v",
         "showlegend": true,
         "type": "scatter",
         "x": [
          -1.2847945878450713,
          -1.464061322779075,
          -1.5573962720707022,
          -2.5317269804395575,
          -2.616484608284043,
          -1.9708149459064814,
          -2.349757983950942,
          -3.396879920678137,
          -2.932005096991301,
          -2.319672793874053,
          -2.918134233644251,
          -1.6619349470194864,
          -1.8023404526607327,
          -2.165378862953397,
          -1.9047435782139117,
          -1.9492487818644977,
          -3.488765379656386,
          -3.7946868612099696,
          -2.428167259020848,
          -3.499265484298957,
          -2.275853649305694,
          -2.6141938306983334,
          -2.122853980508313,
          -2.3875644023690272,
          -2.840960925285383,
          -3.232342898295874,
          -2.1587383731331347,
          -1.7796401068985692,
          -3.076521621020661,
          -2.144986856709304,
          -1.9048629251371312,
          -2.107653731173268,
          -2.314303394629548,
          -1.9224508848357524,
          -2.5633227123408084,
          -2.41939121980498,
          -1.944017048877737,
          -1.7640459355269824,
          -1.901629075288232
         ],
         "xaxis": "x",
         "y": [
          0.6854391861329188,
          0.504189832972452,
          0.2673925848127636,
          -0.011842236640299306,
          0.3419352869872934,
          -0.18112569470491258,
          -0.04188254965484191,
          0.5471680462301518,
          0.3523770061808598,
          -0.2455481706069112,
          0.7803806293720316,
          0.24203840103752167,
          -0.21615460662653746,
          0.2152802833730056,
          0.11881899098269766,
          0.04073025942776838,
          1.171544544263566,
          0.25326557097253205,
          0.3767819712541512,
          0.4567734669640732,
          0.33338652575664257,
          0.5583669502788228,
          -0.21085488454949053,
          0.4625192507262604,
          0.3727425910490197,
          1.3705240359763347,
          -0.21832553156299428,
          -0.5014647947060134,
          0.6857644422460532,
          0.1389066088773152,
          0.0480475082318358,
          0.37148224917710393,
          0.18260885079369693,
          0.4092711761786921,
          0.2759745022398377,
          0.30350393770262774,
          0.18741522204601102,
          0.07851918642935639,
          0.1158767482479664
         ],
         "yaxis": "y"
        },
        {
         "hovertemplate": "color=Iris-versicolor<br>x=%{x}<br>y=%{y}<extra></extra>",
         "legendgroup": "Iris-versicolor",
         "marker": {
          "color": "yellow",
          "symbol": "circle"
         },
         "mode": "markers",
         "name": "Iris-versicolor",
         "orientation": "v",
         "showlegend": true,
         "type": "scatter",
         "x": [
          -0.9324107529829176,
          -0.18096720634769864,
          -1.0871344872070006,
          -0.6404367495231452,
          -1.0952237099384783,
          0.7514671406482267,
          -1.0432977807062809,
          0.010190070727853356,
          0.5110861958950904,
          -0.5110980606834774,
          -0.2623357561531802,
          -0.9840445451694306,
          0.17486400196569601,
          -0.9275729420326997,
          -0.6595927890562003,
          -0.23454058625983543,
          -0.942361707398842,
          -0.043246400328704644,
          -1.1162407237538154,
          -0.35678656783046125,
          -1.2964688502855337,
          -0.920502648909009,
          -0.7140082136428331,
          -0.899640863283776,
          -1.3310414188547195,
          -0.8124555489980019,
          0.3073347556634041,
          0.0703428889492716,
          0.19188449210314562,
          -0.13499495045137333,
          -1.3787369827755824,
          -0.5872748535799106,
          -0.8072054966767163,
          -1.2204289662446794,
          -0.8128677903690698,
          -0.24519516169034583,
          -0.16451342836925575,
          -0.4630309888714239,
          -0.890160445651156,
          -0.22887904996964759,
          0.7070812839208603,
          -0.35553303918706336,
          -0.33112694733272263,
          -0.37523822894676573,
          -0.6416902781665431,
          0.9084633331234949,
          -0.2978079074069339,
          -1.414072225173757,
          -0.5193832450849359,
          -1.3445942175098242,
          -1.5852672993086436,
          -1.2983298245678156,
          -1.1980973722749622,
          -1.3876682501815556,
          -1.2576251829251364,
          -1.2906696477376014,
          -1.4431026043759743,
          -1.1688534694704031,
          -1.414072225173757,
          -1.5256636313138725,
          -1.3896661333194165
         ],
         "xaxis": "x",
         "y": [
          0.3191980898336485,
          -0.8256039435761142,
          0.0753903892887658,
          -0.4173234829700243,
          0.283891210938481,
          -1.0011075129743938,
          0.22895690877700586,
          -0.7205748667019011,
          -1.2624919538621415,
          -0.10228410504597042,
          -0.5478932980253386,
          -0.12436042022227728,
          -0.25181557108017116,
          0.4682362050431157,
          -0.35197629106031486,
          -0.3319218293621196,
          -0.5418222581500172,
          -0.581489446612359,
          -0.08421401387837225,
          -0.06682382794136754,
          -0.3275615197949454,
          -0.1823903633279199,
          0.15037915314843608,
          0.32961097958188246,
          0.24466952060228767,
          -0.1623315748786333,
          -0.3650866127661615,
          -0.7025379317307265,
          -0.6774905443743577,
          -0.31170964270339685,
          -0.4212051382146276,
          -0.48328426771748006,
          0.19505396377111295,
          0.4080353370010165,
          -0.3706789983189123,
          -0.2667280356618467,
          -0.6796614693108142,
          -0.6695265465361212,
          -0.03381244274676198,
          -0.4022576201789121,
          -1.0084247617784612,
          -0.5032184874026618,
          -0.2111801406626251,
          -0.29162202480877886,
          0.019071176491270284,
          -0.7515687251694869,
          -0.3470165215985636,
          -0.5749250559123046,
          -1.1913516890506517,
          -0.7764154251768259,
          -0.5393070538471734,
          -0.7610139365215087,
          -0.6055789617645942,
          -0.20403098657015645,
          -0.1791369974232241,
          -0.1164252518293724,
          -0.14380128908272577,
          -0.16450249981508974,
          -0.5749250559123046,
          -0.37502084819182535,
          -0.2828867091722678
         ],
         "yaxis": "y"
        }
       ],
       "layout": {
        "legend": {
         "title": {
          "text": "color"
         },
         "tracegroupgap": 0
        },
        "margin": {
         "t": 60
        },
        "template": {
         "data": {
          "bar": [
           {
            "error_x": {
             "color": "#2a3f5f"
            },
            "error_y": {
             "color": "#2a3f5f"
            },
            "marker": {
             "line": {
              "color": "#E5ECF6",
              "width": 0.5
             },
             "pattern": {
              "fillmode": "overlay",
              "size": 10,
              "solidity": 0.2
             }
            },
            "type": "bar"
           }
          ],
          "barpolar": [
           {
            "marker": {
             "line": {
              "color": "#E5ECF6",
              "width": 0.5
             },
             "pattern": {
              "fillmode": "overlay",
              "size": 10,
              "solidity": 0.2
             }
            },
            "type": "barpolar"
           }
          ],
          "carpet": [
           {
            "aaxis": {
             "endlinecolor": "#2a3f5f",
             "gridcolor": "white",
             "linecolor": "white",
             "minorgridcolor": "white",
             "startlinecolor": "#2a3f5f"
            },
            "baxis": {
             "endlinecolor": "#2a3f5f",
             "gridcolor": "white",
             "linecolor": "white",
             "minorgridcolor": "white",
             "startlinecolor": "#2a3f5f"
            },
            "type": "carpet"
           }
          ],
          "choropleth": [
           {
            "colorbar": {
             "outlinewidth": 0,
             "ticks": ""
            },
            "type": "choropleth"
           }
          ],
          "contour": [
           {
            "colorbar": {
             "outlinewidth": 0,
             "ticks": ""
            },
            "colorscale": [
             [
              0,
              "#0d0887"
             ],
             [
              0.1111111111111111,
              "#46039f"
             ],
             [
              0.2222222222222222,
              "#7201a8"
             ],
             [
              0.3333333333333333,
              "#9c179e"
             ],
             [
              0.4444444444444444,
              "#bd3786"
             ],
             [
              0.5555555555555556,
              "#d8576b"
             ],
             [
              0.6666666666666666,
              "#ed7953"
             ],
             [
              0.7777777777777778,
              "#fb9f3a"
             ],
             [
              0.8888888888888888,
              "#fdca26"
             ],
             [
              1,
              "#f0f921"
             ]
            ],
            "type": "contour"
           }
          ],
          "contourcarpet": [
           {
            "colorbar": {
             "outlinewidth": 0,
             "ticks": ""
            },
            "type": "contourcarpet"
           }
          ],
          "heatmap": [
           {
            "colorbar": {
             "outlinewidth": 0,
             "ticks": ""
            },
            "colorscale": [
             [
              0,
              "#0d0887"
             ],
             [
              0.1111111111111111,
              "#46039f"
             ],
             [
              0.2222222222222222,
              "#7201a8"
             ],
             [
              0.3333333333333333,
              "#9c179e"
             ],
             [
              0.4444444444444444,
              "#bd3786"
             ],
             [
              0.5555555555555556,
              "#d8576b"
             ],
             [
              0.6666666666666666,
              "#ed7953"
             ],
             [
              0.7777777777777778,
              "#fb9f3a"
             ],
             [
              0.8888888888888888,
              "#fdca26"
             ],
             [
              1,
              "#f0f921"
             ]
            ],
            "type": "heatmap"
           }
          ],
          "heatmapgl": [
           {
            "colorbar": {
             "outlinewidth": 0,
             "ticks": ""
            },
            "colorscale": [
             [
              0,
              "#0d0887"
             ],
             [
              0.1111111111111111,
              "#46039f"
             ],
             [
              0.2222222222222222,
              "#7201a8"
             ],
             [
              0.3333333333333333,
              "#9c179e"
             ],
             [
              0.4444444444444444,
              "#bd3786"
             ],
             [
              0.5555555555555556,
              "#d8576b"
             ],
             [
              0.6666666666666666,
              "#ed7953"
             ],
             [
              0.7777777777777778,
              "#fb9f3a"
             ],
             [
              0.8888888888888888,
              "#fdca26"
             ],
             [
              1,
              "#f0f921"
             ]
            ],
            "type": "heatmapgl"
           }
          ],
          "histogram": [
           {
            "marker": {
             "pattern": {
              "fillmode": "overlay",
              "size": 10,
              "solidity": 0.2
             }
            },
            "type": "histogram"
           }
          ],
          "histogram2d": [
           {
            "colorbar": {
             "outlinewidth": 0,
             "ticks": ""
            },
            "colorscale": [
             [
              0,
              "#0d0887"
             ],
             [
              0.1111111111111111,
              "#46039f"
             ],
             [
              0.2222222222222222,
              "#7201a8"
             ],
             [
              0.3333333333333333,
              "#9c179e"
             ],
             [
              0.4444444444444444,
              "#bd3786"
             ],
             [
              0.5555555555555556,
              "#d8576b"
             ],
             [
              0.6666666666666666,
              "#ed7953"
             ],
             [
              0.7777777777777778,
              "#fb9f3a"
             ],
             [
              0.8888888888888888,
              "#fdca26"
             ],
             [
              1,
              "#f0f921"
             ]
            ],
            "type": "histogram2d"
           }
          ],
          "histogram2dcontour": [
           {
            "colorbar": {
             "outlinewidth": 0,
             "ticks": ""
            },
            "colorscale": [
             [
              0,
              "#0d0887"
             ],
             [
              0.1111111111111111,
              "#46039f"
             ],
             [
              0.2222222222222222,
              "#7201a8"
             ],
             [
              0.3333333333333333,
              "#9c179e"
             ],
             [
              0.4444444444444444,
              "#bd3786"
             ],
             [
              0.5555555555555556,
              "#d8576b"
             ],
             [
              0.6666666666666666,
              "#ed7953"
             ],
             [
              0.7777777777777778,
              "#fb9f3a"
             ],
             [
              0.8888888888888888,
              "#fdca26"
             ],
             [
              1,
              "#f0f921"
             ]
            ],
            "type": "histogram2dcontour"
           }
          ],
          "mesh3d": [
           {
            "colorbar": {
             "outlinewidth": 0,
             "ticks": ""
            },
            "type": "mesh3d"
           }
          ],
          "parcoords": [
           {
            "line": {
             "colorbar": {
              "outlinewidth": 0,
              "ticks": ""
             }
            },
            "type": "parcoords"
           }
          ],
          "pie": [
           {
            "automargin": true,
            "type": "pie"
           }
          ],
          "scatter": [
           {
            "fillpattern": {
             "fillmode": "overlay",
             "size": 10,
             "solidity": 0.2
            },
            "type": "scatter"
           }
          ],
          "scatter3d": [
           {
            "line": {
             "colorbar": {
              "outlinewidth": 0,
              "ticks": ""
             }
            },
            "marker": {
             "colorbar": {
              "outlinewidth": 0,
              "ticks": ""
             }
            },
            "type": "scatter3d"
           }
          ],
          "scattercarpet": [
           {
            "marker": {
             "colorbar": {
              "outlinewidth": 0,
              "ticks": ""
             }
            },
            "type": "scattercarpet"
           }
          ],
          "scattergeo": [
           {
            "marker": {
             "colorbar": {
              "outlinewidth": 0,
              "ticks": ""
             }
            },
            "type": "scattergeo"
           }
          ],
          "scattergl": [
           {
            "marker": {
             "colorbar": {
              "outlinewidth": 0,
              "ticks": ""
             }
            },
            "type": "scattergl"
           }
          ],
          "scattermapbox": [
           {
            "marker": {
             "colorbar": {
              "outlinewidth": 0,
              "ticks": ""
             }
            },
            "type": "scattermapbox"
           }
          ],
          "scatterpolar": [
           {
            "marker": {
             "colorbar": {
              "outlinewidth": 0,
              "ticks": ""
             }
            },
            "type": "scatterpolar"
           }
          ],
          "scatterpolargl": [
           {
            "marker": {
             "colorbar": {
              "outlinewidth": 0,
              "ticks": ""
             }
            },
            "type": "scatterpolargl"
           }
          ],
          "scatterternary": [
           {
            "marker": {
             "colorbar": {
              "outlinewidth": 0,
              "ticks": ""
             }
            },
            "type": "scatterternary"
           }
          ],
          "surface": [
           {
            "colorbar": {
             "outlinewidth": 0,
             "ticks": ""
            },
            "colorscale": [
             [
              0,
              "#0d0887"
             ],
             [
              0.1111111111111111,
              "#46039f"
             ],
             [
              0.2222222222222222,
              "#7201a8"
             ],
             [
              0.3333333333333333,
              "#9c179e"
             ],
             [
              0.4444444444444444,
              "#bd3786"
             ],
             [
              0.5555555555555556,
              "#d8576b"
             ],
             [
              0.6666666666666666,
              "#ed7953"
             ],
             [
              0.7777777777777778,
              "#fb9f3a"
             ],
             [
              0.8888888888888888,
              "#fdca26"
             ],
             [
              1,
              "#f0f921"
             ]
            ],
            "type": "surface"
           }
          ],
          "table": [
           {
            "cells": {
             "fill": {
              "color": "#EBF0F8"
             },
             "line": {
              "color": "white"
             }
            },
            "header": {
             "fill": {
              "color": "#C8D4E3"
             },
             "line": {
              "color": "white"
             }
            },
            "type": "table"
           }
          ]
         },
         "layout": {
          "annotationdefaults": {
           "arrowcolor": "#2a3f5f",
           "arrowhead": 0,
           "arrowwidth": 1
          },
          "autotypenumbers": "strict",
          "coloraxis": {
           "colorbar": {
            "outlinewidth": 0,
            "ticks": ""
           }
          },
          "colorscale": {
           "diverging": [
            [
             0,
             "#8e0152"
            ],
            [
             0.1,
             "#c51b7d"
            ],
            [
             0.2,
             "#de77ae"
            ],
            [
             0.3,
             "#f1b6da"
            ],
            [
             0.4,
             "#fde0ef"
            ],
            [
             0.5,
             "#f7f7f7"
            ],
            [
             0.6,
             "#e6f5d0"
            ],
            [
             0.7,
             "#b8e186"
            ],
            [
             0.8,
             "#7fbc41"
            ],
            [
             0.9,
             "#4d9221"
            ],
            [
             1,
             "#276419"
            ]
           ],
           "sequential": [
            [
             0,
             "#0d0887"
            ],
            [
             0.1111111111111111,
             "#46039f"
            ],
            [
             0.2222222222222222,
             "#7201a8"
            ],
            [
             0.3333333333333333,
             "#9c179e"
            ],
            [
             0.4444444444444444,
             "#bd3786"
            ],
            [
             0.5555555555555556,
             "#d8576b"
            ],
            [
             0.6666666666666666,
             "#ed7953"
            ],
            [
             0.7777777777777778,
             "#fb9f3a"
            ],
            [
             0.8888888888888888,
             "#fdca26"
            ],
            [
             1,
             "#f0f921"
            ]
           ],
           "sequentialminus": [
            [
             0,
             "#0d0887"
            ],
            [
             0.1111111111111111,
             "#46039f"
            ],
            [
             0.2222222222222222,
             "#7201a8"
            ],
            [
             0.3333333333333333,
             "#9c179e"
            ],
            [
             0.4444444444444444,
             "#bd3786"
            ],
            [
             0.5555555555555556,
             "#d8576b"
            ],
            [
             0.6666666666666666,
             "#ed7953"
            ],
            [
             0.7777777777777778,
             "#fb9f3a"
            ],
            [
             0.8888888888888888,
             "#fdca26"
            ],
            [
             1,
             "#f0f921"
            ]
           ]
          },
          "colorway": [
           "#636efa",
           "#EF553B",
           "#00cc96",
           "#ab63fa",
           "#FFA15A",
           "#19d3f3",
           "#FF6692",
           "#B6E880",
           "#FF97FF",
           "#FECB52"
          ],
          "font": {
           "color": "#2a3f5f"
          },
          "geo": {
           "bgcolor": "white",
           "lakecolor": "white",
           "landcolor": "#E5ECF6",
           "showlakes": true,
           "showland": true,
           "subunitcolor": "white"
          },
          "hoverlabel": {
           "align": "left"
          },
          "hovermode": "closest",
          "mapbox": {
           "style": "light"
          },
          "paper_bgcolor": "white",
          "plot_bgcolor": "#E5ECF6",
          "polar": {
           "angularaxis": {
            "gridcolor": "white",
            "linecolor": "white",
            "ticks": ""
           },
           "bgcolor": "#E5ECF6",
           "radialaxis": {
            "gridcolor": "white",
            "linecolor": "white",
            "ticks": ""
           }
          },
          "scene": {
           "xaxis": {
            "backgroundcolor": "#E5ECF6",
            "gridcolor": "white",
            "gridwidth": 2,
            "linecolor": "white",
            "showbackground": true,
            "ticks": "",
            "zerolinecolor": "white"
           },
           "yaxis": {
            "backgroundcolor": "#E5ECF6",
            "gridcolor": "white",
            "gridwidth": 2,
            "linecolor": "white",
            "showbackground": true,
            "ticks": "",
            "zerolinecolor": "white"
           },
           "zaxis": {
            "backgroundcolor": "#E5ECF6",
            "gridcolor": "white",
            "gridwidth": 2,
            "linecolor": "white",
            "showbackground": true,
            "ticks": "",
            "zerolinecolor": "white"
           }
          },
          "shapedefaults": {
           "line": {
            "color": "#2a3f5f"
           }
          },
          "ternary": {
           "aaxis": {
            "gridcolor": "white",
            "linecolor": "white",
            "ticks": ""
           },
           "baxis": {
            "gridcolor": "white",
            "linecolor": "white",
            "ticks": ""
           },
           "bgcolor": "#E5ECF6",
           "caxis": {
            "gridcolor": "white",
            "linecolor": "white",
            "ticks": ""
           }
          },
          "title": {
           "x": 0.05
          },
          "xaxis": {
           "automargin": true,
           "gridcolor": "white",
           "linecolor": "white",
           "ticks": "",
           "title": {
            "standoff": 15
           },
           "zerolinecolor": "white",
           "zerolinewidth": 2
          },
          "yaxis": {
           "automargin": true,
           "gridcolor": "white",
           "linecolor": "white",
           "ticks": "",
           "title": {
            "standoff": 15
           },
           "zerolinecolor": "white",
           "zerolinewidth": 2
          }
         }
        },
        "xaxis": {
         "anchor": "y",
         "domain": [
          0,
          1
         ],
         "title": {
          "text": "x"
         }
        },
        "yaxis": {
         "anchor": "x",
         "domain": [
          0,
          1
         ],
         "title": {
          "text": "y"
         }
        }
       }
      },
      "text/html": [
       "<div>                            <div id=\"073e9445-6a57-4cbf-af1f-3f6156afbe5f\" class=\"plotly-graph-div\" style=\"height:525px; width:100%;\"></div>            <script type=\"text/javascript\">                require([\"plotly\"], function(Plotly) {                    window.PLOTLYENV=window.PLOTLYENV || {};                                    if (document.getElementById(\"073e9445-6a57-4cbf-af1f-3f6156afbe5f\")) {                    Plotly.newPlot(                        \"073e9445-6a57-4cbf-af1f-3f6156afbe5f\",                        [{\"hovertemplate\":\"color=Iris-setosa<br>x=%{x}<br>y=%{y}<extra></extra>\",\"legendgroup\":\"Iris-setosa\",\"marker\":{\"color\":\"red\",\"symbol\":\"circle\"},\"mode\":\"markers\",\"name\":\"Iris-setosa\",\"orientation\":\"v\",\"showlegend\":true,\"x\":[2.6842071251039474,2.7153906156341296,2.889819539617916,2.746437197308734,2.728592981831314,2.2798973610095965,2.820890682180629,2.626481993323818,2.8879585653356337,2.67384468671912,2.5065267893389027,2.613142718271056,2.7874339759970965,3.2252004462749797,2.6435432169411452,2.383869323799374,2.6225262031258074,2.6483227324791256,2.1990779614307616,2.587346188917737,2.310531701313133,2.543234907303694,3.2158576949001043,2.303128537663882,2.356171086683897,2.50791722683788,2.469055997545122,2.562390946836749,2.639821268376581,2.632847908030757,2.5884620513033907,2.4100773371215944,2.6476366733968995,2.597159477075917,2.67384468671912,2.8669998469325337,2.6252284646804203,2.67384468671912,2.9818426648539074,2.590323025585673,2.7701389107463235,2.852211081566391,2.99829644283235,2.4055141012847003,2.208832954176705,2.7156651907474534,2.537573371013506,2.8403212968270077,2.542685757077048,2.7039123148636497],\"xaxis\":\"x\",\"y\":[0.32660731476438876,-0.1695568475560265,-0.137345609605027,-0.3111243157519905,0.33392456356845623,0.7477827132251349,-0.08210451102467926,0.17040534896029097,-0.5707980263315907,-0.10669170375273788,0.6519350136725727,0.021520631960259953,-0.22774018887110598,-0.5032799094854247,1.1861948994134492,1.3447543445598638,0.8180896745965954,0.31913666775088506,0.8792440880917368,0.5204736388059698,0.3978678215888923,0.44003175465981625,0.1416155716255852,0.10552267842998204,-0.031209589068335472,-0.13905633991317412,0.1378873145904184,0.3746845627501068,0.3192900659603219,-0.19007583063362243,-0.1973930794376899,0.41808000824761515,0.8199826325595102,1.1000219280072705,-0.10669170375273788,0.0771930957235867,0.6068000084215855,-0.10669170375273788,-0.4802500488560756,0.23605933728887352,0.2710594197651676,-0.9328653674695467,-0.3343075745907755,0.19591725769606105,0.44269603042100547,-0.24268148289811337,0.5103675454766083,-0.22057633827647527,0.5862810253439895,0.11501085217050612],\"yaxis\":\"y\",\"type\":\"scatter\"},{\"hovertemplate\":\"color=Iris-virginica<br>x=%{x}<br>y=%{y}<extra></extra>\",\"legendgroup\":\"Iris-virginica\",\"marker\":{\"color\":\"darkviolet\",\"symbol\":\"circle\"},\"mode\":\"markers\",\"name\":\"Iris-virginica\",\"orientation\":\"v\",\"showlegend\":true,\"x\":[-1.2847945878450713,-1.464061322779075,-1.5573962720707022,-2.5317269804395575,-2.616484608284043,-1.9708149459064814,-2.349757983950942,-3.396879920678137,-2.932005096991301,-2.319672793874053,-2.918134233644251,-1.6619349470194864,-1.8023404526607327,-2.165378862953397,-1.9047435782139117,-1.9492487818644977,-3.488765379656386,-3.7946868612099696,-2.428167259020848,-3.499265484298957,-2.275853649305694,-2.6141938306983334,-2.122853980508313,-2.3875644023690272,-2.840960925285383,-3.232342898295874,-2.1587383731331347,-1.7796401068985692,-3.076521621020661,-2.144986856709304,-1.9048629251371312,-2.107653731173268,-2.314303394629548,-1.9224508848357524,-2.5633227123408084,-2.41939121980498,-1.944017048877737,-1.7640459355269824,-1.901629075288232],\"xaxis\":\"x\",\"y\":[0.6854391861329188,0.504189832972452,0.2673925848127636,-0.011842236640299306,0.3419352869872934,-0.18112569470491258,-0.04188254965484191,0.5471680462301518,0.3523770061808598,-0.2455481706069112,0.7803806293720316,0.24203840103752167,-0.21615460662653746,0.2152802833730056,0.11881899098269766,0.04073025942776838,1.171544544263566,0.25326557097253205,0.3767819712541512,0.4567734669640732,0.33338652575664257,0.5583669502788228,-0.21085488454949053,0.4625192507262604,0.3727425910490197,1.3705240359763347,-0.21832553156299428,-0.5014647947060134,0.6857644422460532,0.1389066088773152,0.0480475082318358,0.37148224917710393,0.18260885079369693,0.4092711761786921,0.2759745022398377,0.30350393770262774,0.18741522204601102,0.07851918642935639,0.1158767482479664],\"yaxis\":\"y\",\"type\":\"scatter\"},{\"hovertemplate\":\"color=Iris-versicolor<br>x=%{x}<br>y=%{y}<extra></extra>\",\"legendgroup\":\"Iris-versicolor\",\"marker\":{\"color\":\"yellow\",\"symbol\":\"circle\"},\"mode\":\"markers\",\"name\":\"Iris-versicolor\",\"orientation\":\"v\",\"showlegend\":true,\"x\":[-0.9324107529829176,-0.18096720634769864,-1.0871344872070006,-0.6404367495231452,-1.0952237099384783,0.7514671406482267,-1.0432977807062809,0.010190070727853356,0.5110861958950904,-0.5110980606834774,-0.2623357561531802,-0.9840445451694306,0.17486400196569601,-0.9275729420326997,-0.6595927890562003,-0.23454058625983543,-0.942361707398842,-0.043246400328704644,-1.1162407237538154,-0.35678656783046125,-1.2964688502855337,-0.920502648909009,-0.7140082136428331,-0.899640863283776,-1.3310414188547195,-0.8124555489980019,0.3073347556634041,0.0703428889492716,0.19188449210314562,-0.13499495045137333,-1.3787369827755824,-0.5872748535799106,-0.8072054966767163,-1.2204289662446794,-0.8128677903690698,-0.24519516169034583,-0.16451342836925575,-0.4630309888714239,-0.890160445651156,-0.22887904996964759,0.7070812839208603,-0.35553303918706336,-0.33112694733272263,-0.37523822894676573,-0.6416902781665431,0.9084633331234949,-0.2978079074069339,-1.414072225173757,-0.5193832450849359,-1.3445942175098242,-1.5852672993086436,-1.2983298245678156,-1.1980973722749622,-1.3876682501815556,-1.2576251829251364,-1.2906696477376014,-1.4431026043759743,-1.1688534694704031,-1.414072225173757,-1.5256636313138725,-1.3896661333194165],\"xaxis\":\"x\",\"y\":[0.3191980898336485,-0.8256039435761142,0.0753903892887658,-0.4173234829700243,0.283891210938481,-1.0011075129743938,0.22895690877700586,-0.7205748667019011,-1.2624919538621415,-0.10228410504597042,-0.5478932980253386,-0.12436042022227728,-0.25181557108017116,0.4682362050431157,-0.35197629106031486,-0.3319218293621196,-0.5418222581500172,-0.581489446612359,-0.08421401387837225,-0.06682382794136754,-0.3275615197949454,-0.1823903633279199,0.15037915314843608,0.32961097958188246,0.24466952060228767,-0.1623315748786333,-0.3650866127661615,-0.7025379317307265,-0.6774905443743577,-0.31170964270339685,-0.4212051382146276,-0.48328426771748006,0.19505396377111295,0.4080353370010165,-0.3706789983189123,-0.2667280356618467,-0.6796614693108142,-0.6695265465361212,-0.03381244274676198,-0.4022576201789121,-1.0084247617784612,-0.5032184874026618,-0.2111801406626251,-0.29162202480877886,0.019071176491270284,-0.7515687251694869,-0.3470165215985636,-0.5749250559123046,-1.1913516890506517,-0.7764154251768259,-0.5393070538471734,-0.7610139365215087,-0.6055789617645942,-0.20403098657015645,-0.1791369974232241,-0.1164252518293724,-0.14380128908272577,-0.16450249981508974,-0.5749250559123046,-0.37502084819182535,-0.2828867091722678],\"yaxis\":\"y\",\"type\":\"scatter\"}],                        {\"template\":{\"data\":{\"histogram2dcontour\":[{\"type\":\"histogram2dcontour\",\"colorbar\":{\"outlinewidth\":0,\"ticks\":\"\"},\"colorscale\":[[0.0,\"#0d0887\"],[0.1111111111111111,\"#46039f\"],[0.2222222222222222,\"#7201a8\"],[0.3333333333333333,\"#9c179e\"],[0.4444444444444444,\"#bd3786\"],[0.5555555555555556,\"#d8576b\"],[0.6666666666666666,\"#ed7953\"],[0.7777777777777778,\"#fb9f3a\"],[0.8888888888888888,\"#fdca26\"],[1.0,\"#f0f921\"]]}],\"choropleth\":[{\"type\":\"choropleth\",\"colorbar\":{\"outlinewidth\":0,\"ticks\":\"\"}}],\"histogram2d\":[{\"type\":\"histogram2d\",\"colorbar\":{\"outlinewidth\":0,\"ticks\":\"\"},\"colorscale\":[[0.0,\"#0d0887\"],[0.1111111111111111,\"#46039f\"],[0.2222222222222222,\"#7201a8\"],[0.3333333333333333,\"#9c179e\"],[0.4444444444444444,\"#bd3786\"],[0.5555555555555556,\"#d8576b\"],[0.6666666666666666,\"#ed7953\"],[0.7777777777777778,\"#fb9f3a\"],[0.8888888888888888,\"#fdca26\"],[1.0,\"#f0f921\"]]}],\"heatmap\":[{\"type\":\"heatmap\",\"colorbar\":{\"outlinewidth\":0,\"ticks\":\"\"},\"colorscale\":[[0.0,\"#0d0887\"],[0.1111111111111111,\"#46039f\"],[0.2222222222222222,\"#7201a8\"],[0.3333333333333333,\"#9c179e\"],[0.4444444444444444,\"#bd3786\"],[0.5555555555555556,\"#d8576b\"],[0.6666666666666666,\"#ed7953\"],[0.7777777777777778,\"#fb9f3a\"],[0.8888888888888888,\"#fdca26\"],[1.0,\"#f0f921\"]]}],\"heatmapgl\":[{\"type\":\"heatmapgl\",\"colorbar\":{\"outlinewidth\":0,\"ticks\":\"\"},\"colorscale\":[[0.0,\"#0d0887\"],[0.1111111111111111,\"#46039f\"],[0.2222222222222222,\"#7201a8\"],[0.3333333333333333,\"#9c179e\"],[0.4444444444444444,\"#bd3786\"],[0.5555555555555556,\"#d8576b\"],[0.6666666666666666,\"#ed7953\"],[0.7777777777777778,\"#fb9f3a\"],[0.8888888888888888,\"#fdca26\"],[1.0,\"#f0f921\"]]}],\"contourcarpet\":[{\"type\":\"contourcarpet\",\"colorbar\":{\"outlinewidth\":0,\"ticks\":\"\"}}],\"contour\":[{\"type\":\"contour\",\"colorbar\":{\"outlinewidth\":0,\"ticks\":\"\"},\"colorscale\":[[0.0,\"#0d0887\"],[0.1111111111111111,\"#46039f\"],[0.2222222222222222,\"#7201a8\"],[0.3333333333333333,\"#9c179e\"],[0.4444444444444444,\"#bd3786\"],[0.5555555555555556,\"#d8576b\"],[0.6666666666666666,\"#ed7953\"],[0.7777777777777778,\"#fb9f3a\"],[0.8888888888888888,\"#fdca26\"],[1.0,\"#f0f921\"]]}],\"surface\":[{\"type\":\"surface\",\"colorbar\":{\"outlinewidth\":0,\"ticks\":\"\"},\"colorscale\":[[0.0,\"#0d0887\"],[0.1111111111111111,\"#46039f\"],[0.2222222222222222,\"#7201a8\"],[0.3333333333333333,\"#9c179e\"],[0.4444444444444444,\"#bd3786\"],[0.5555555555555556,\"#d8576b\"],[0.6666666666666666,\"#ed7953\"],[0.7777777777777778,\"#fb9f3a\"],[0.8888888888888888,\"#fdca26\"],[1.0,\"#f0f921\"]]}],\"mesh3d\":[{\"type\":\"mesh3d\",\"colorbar\":{\"outlinewidth\":0,\"ticks\":\"\"}}],\"scatter\":[{\"fillpattern\":{\"fillmode\":\"overlay\",\"size\":10,\"solidity\":0.2},\"type\":\"scatter\"}],\"parcoords\":[{\"type\":\"parcoords\",\"line\":{\"colorbar\":{\"outlinewidth\":0,\"ticks\":\"\"}}}],\"scatterpolargl\":[{\"type\":\"scatterpolargl\",\"marker\":{\"colorbar\":{\"outlinewidth\":0,\"ticks\":\"\"}}}],\"bar\":[{\"error_x\":{\"color\":\"#2a3f5f\"},\"error_y\":{\"color\":\"#2a3f5f\"},\"marker\":{\"line\":{\"color\":\"#E5ECF6\",\"width\":0.5},\"pattern\":{\"fillmode\":\"overlay\",\"size\":10,\"solidity\":0.2}},\"type\":\"bar\"}],\"scattergeo\":[{\"type\":\"scattergeo\",\"marker\":{\"colorbar\":{\"outlinewidth\":0,\"ticks\":\"\"}}}],\"scatterpolar\":[{\"type\":\"scatterpolar\",\"marker\":{\"colorbar\":{\"outlinewidth\":0,\"ticks\":\"\"}}}],\"histogram\":[{\"marker\":{\"pattern\":{\"fillmode\":\"overlay\",\"size\":10,\"solidity\":0.2}},\"type\":\"histogram\"}],\"scattergl\":[{\"type\":\"scattergl\",\"marker\":{\"colorbar\":{\"outlinewidth\":0,\"ticks\":\"\"}}}],\"scatter3d\":[{\"type\":\"scatter3d\",\"line\":{\"colorbar\":{\"outlinewidth\":0,\"ticks\":\"\"}},\"marker\":{\"colorbar\":{\"outlinewidth\":0,\"ticks\":\"\"}}}],\"scattermapbox\":[{\"type\":\"scattermapbox\",\"marker\":{\"colorbar\":{\"outlinewidth\":0,\"ticks\":\"\"}}}],\"scatterternary\":[{\"type\":\"scatterternary\",\"marker\":{\"colorbar\":{\"outlinewidth\":0,\"ticks\":\"\"}}}],\"scattercarpet\":[{\"type\":\"scattercarpet\",\"marker\":{\"colorbar\":{\"outlinewidth\":0,\"ticks\":\"\"}}}],\"carpet\":[{\"aaxis\":{\"endlinecolor\":\"#2a3f5f\",\"gridcolor\":\"white\",\"linecolor\":\"white\",\"minorgridcolor\":\"white\",\"startlinecolor\":\"#2a3f5f\"},\"baxis\":{\"endlinecolor\":\"#2a3f5f\",\"gridcolor\":\"white\",\"linecolor\":\"white\",\"minorgridcolor\":\"white\",\"startlinecolor\":\"#2a3f5f\"},\"type\":\"carpet\"}],\"table\":[{\"cells\":{\"fill\":{\"color\":\"#EBF0F8\"},\"line\":{\"color\":\"white\"}},\"header\":{\"fill\":{\"color\":\"#C8D4E3\"},\"line\":{\"color\":\"white\"}},\"type\":\"table\"}],\"barpolar\":[{\"marker\":{\"line\":{\"color\":\"#E5ECF6\",\"width\":0.5},\"pattern\":{\"fillmode\":\"overlay\",\"size\":10,\"solidity\":0.2}},\"type\":\"barpolar\"}],\"pie\":[{\"automargin\":true,\"type\":\"pie\"}]},\"layout\":{\"autotypenumbers\":\"strict\",\"colorway\":[\"#636efa\",\"#EF553B\",\"#00cc96\",\"#ab63fa\",\"#FFA15A\",\"#19d3f3\",\"#FF6692\",\"#B6E880\",\"#FF97FF\",\"#FECB52\"],\"font\":{\"color\":\"#2a3f5f\"},\"hovermode\":\"closest\",\"hoverlabel\":{\"align\":\"left\"},\"paper_bgcolor\":\"white\",\"plot_bgcolor\":\"#E5ECF6\",\"polar\":{\"bgcolor\":\"#E5ECF6\",\"angularaxis\":{\"gridcolor\":\"white\",\"linecolor\":\"white\",\"ticks\":\"\"},\"radialaxis\":{\"gridcolor\":\"white\",\"linecolor\":\"white\",\"ticks\":\"\"}},\"ternary\":{\"bgcolor\":\"#E5ECF6\",\"aaxis\":{\"gridcolor\":\"white\",\"linecolor\":\"white\",\"ticks\":\"\"},\"baxis\":{\"gridcolor\":\"white\",\"linecolor\":\"white\",\"ticks\":\"\"},\"caxis\":{\"gridcolor\":\"white\",\"linecolor\":\"white\",\"ticks\":\"\"}},\"coloraxis\":{\"colorbar\":{\"outlinewidth\":0,\"ticks\":\"\"}},\"colorscale\":{\"sequential\":[[0.0,\"#0d0887\"],[0.1111111111111111,\"#46039f\"],[0.2222222222222222,\"#7201a8\"],[0.3333333333333333,\"#9c179e\"],[0.4444444444444444,\"#bd3786\"],[0.5555555555555556,\"#d8576b\"],[0.6666666666666666,\"#ed7953\"],[0.7777777777777778,\"#fb9f3a\"],[0.8888888888888888,\"#fdca26\"],[1.0,\"#f0f921\"]],\"sequentialminus\":[[0.0,\"#0d0887\"],[0.1111111111111111,\"#46039f\"],[0.2222222222222222,\"#7201a8\"],[0.3333333333333333,\"#9c179e\"],[0.4444444444444444,\"#bd3786\"],[0.5555555555555556,\"#d8576b\"],[0.6666666666666666,\"#ed7953\"],[0.7777777777777778,\"#fb9f3a\"],[0.8888888888888888,\"#fdca26\"],[1.0,\"#f0f921\"]],\"diverging\":[[0,\"#8e0152\"],[0.1,\"#c51b7d\"],[0.2,\"#de77ae\"],[0.3,\"#f1b6da\"],[0.4,\"#fde0ef\"],[0.5,\"#f7f7f7\"],[0.6,\"#e6f5d0\"],[0.7,\"#b8e186\"],[0.8,\"#7fbc41\"],[0.9,\"#4d9221\"],[1,\"#276419\"]]},\"xaxis\":{\"gridcolor\":\"white\",\"linecolor\":\"white\",\"ticks\":\"\",\"title\":{\"standoff\":15},\"zerolinecolor\":\"white\",\"automargin\":true,\"zerolinewidth\":2},\"yaxis\":{\"gridcolor\":\"white\",\"linecolor\":\"white\",\"ticks\":\"\",\"title\":{\"standoff\":15},\"zerolinecolor\":\"white\",\"automargin\":true,\"zerolinewidth\":2},\"scene\":{\"xaxis\":{\"backgroundcolor\":\"#E5ECF6\",\"gridcolor\":\"white\",\"linecolor\":\"white\",\"showbackground\":true,\"ticks\":\"\",\"zerolinecolor\":\"white\",\"gridwidth\":2},\"yaxis\":{\"backgroundcolor\":\"#E5ECF6\",\"gridcolor\":\"white\",\"linecolor\":\"white\",\"showbackground\":true,\"ticks\":\"\",\"zerolinecolor\":\"white\",\"gridwidth\":2},\"zaxis\":{\"backgroundcolor\":\"#E5ECF6\",\"gridcolor\":\"white\",\"linecolor\":\"white\",\"showbackground\":true,\"ticks\":\"\",\"zerolinecolor\":\"white\",\"gridwidth\":2}},\"shapedefaults\":{\"line\":{\"color\":\"#2a3f5f\"}},\"annotationdefaults\":{\"arrowcolor\":\"#2a3f5f\",\"arrowhead\":0,\"arrowwidth\":1},\"geo\":{\"bgcolor\":\"white\",\"landcolor\":\"#E5ECF6\",\"subunitcolor\":\"white\",\"showland\":true,\"showlakes\":true,\"lakecolor\":\"white\"},\"title\":{\"x\":0.05},\"mapbox\":{\"style\":\"light\"}}},\"xaxis\":{\"anchor\":\"y\",\"domain\":[0.0,1.0],\"title\":{\"text\":\"x\"}},\"yaxis\":{\"anchor\":\"x\",\"domain\":[0.0,1.0],\"title\":{\"text\":\"y\"}},\"legend\":{\"title\":{\"text\":\"color\"},\"tracegroupgap\":0},\"margin\":{\"t\":60}},                        {\"responsive\": true}                    ).then(function(){\n",
       "                            \n",
       "var gd = document.getElementById('073e9445-6a57-4cbf-af1f-3f6156afbe5f');\n",
       "var x = new MutationObserver(function (mutations, observer) {{\n",
       "        var display = window.getComputedStyle(gd).display;\n",
       "        if (!display || display === 'none') {{\n",
       "            console.log([gd, 'removed!']);\n",
       "            Plotly.purge(gd);\n",
       "            observer.disconnect();\n",
       "        }}\n",
       "}});\n",
       "\n",
       "// Listen for the removal of the full notebook cells\n",
       "var notebookContainer = gd.closest('#notebook-container');\n",
       "if (notebookContainer) {{\n",
       "    x.observe(notebookContainer, {childList: true});\n",
       "}}\n",
       "\n",
       "// Listen for the clearing of the current output cell\n",
       "var outputEl = gd.closest('.output');\n",
       "if (outputEl) {{\n",
       "    x.observe(outputEl, {childList: true});\n",
       "}}\n",
       "\n",
       "                        })                };                });            </script>        </div>"
      ]
     },
     "metadata": {},
     "output_type": "display_data"
    }
   ],
   "source": [
    "figprin2 = px.scatter(x=principal2['PC1'],\n",
    "                  y=principal2['PC2'],\n",
    "                  color= principal2['target'],\n",
    "                     color_discrete_map={\n",
    "                \"Iris-setosa\": \"red\",\n",
    "                \"Iris-versicolor\": \"yellow\",\n",
    "                \"Iris-virginica\": \"darkviolet\",})\n",
    "\n",
    "figprin2.show()"
   ]
  },
  {
   "cell_type": "code",
   "execution_count": 118,
   "id": "9060efc5",
   "metadata": {},
   "outputs": [
    {
     "data": {
      "text/plain": [
       "(          PC1       PC2       PC3          target\n",
       " 0    2.684207  0.326607  0.021512     Iris-setosa\n",
       " 1    2.715391 -0.169557  0.203521     Iris-setosa\n",
       " 2    2.889820 -0.137346 -0.024709     Iris-setosa\n",
       " 3    2.746437 -0.311124 -0.037672     Iris-setosa\n",
       " 4    2.728593  0.333925 -0.096230     Iris-setosa\n",
       " ..        ...       ...       ...             ...\n",
       " 145 -1.944017  0.187415 -0.179303  Iris-virginica\n",
       " 146 -1.525664 -0.375021  0.120636  Iris-virginica\n",
       " 147 -1.764046  0.078519 -0.130784  Iris-virginica\n",
       " 148 -1.901629  0.115877 -0.722874  Iris-virginica\n",
       " 149 -1.389666 -0.282887 -0.362318  Iris-virginica\n",
       " \n",
       " [150 rows x 4 columns],\n",
       " 0          Iris-setosa\n",
       " 1          Iris-setosa\n",
       " 2          Iris-setosa\n",
       " 3          Iris-setosa\n",
       " 4          Iris-setosa\n",
       "             ...       \n",
       " 145     Iris-virginica\n",
       " 146    Iris-versicolor\n",
       " 147     Iris-virginica\n",
       " 148     Iris-virginica\n",
       " 149    Iris-versicolor\n",
       " Length: 150, dtype: object)"
      ]
     },
     "execution_count": 118,
     "metadata": {},
     "output_type": "execute_result"
    }
   ],
   "source": [
    "principal3 = PCA(origin, 3)\n",
    "principal3 = pd.DataFrame(principal3 , columns = ['PC1','PC2','PC3'])\n",
    "Cluseters3 = KMeans(n_clusters=3, random_state=0).fit(principal3)\n",
    "Clusterlabel3 = pd.Series(Cluseters3.labels_)\n",
    "label3 = Clusterlabel3.replace(1,\"Iris-setosa\").replace(0,\"Iris-versicolor\").replace(2,\"Iris-virginica\")\n",
    "principal3  = pd.concat([principal3 , pd.DataFrame({'target' :target})] , axis = 1)\n",
    "principal3, label3"
   ]
  },
  {
   "cell_type": "code",
   "execution_count": 117,
   "id": "214b4ee3",
   "metadata": {},
   "outputs": [
    {
     "data": {
      "text/plain": [
       "0             red\n",
       "1             red\n",
       "2             red\n",
       "3             red\n",
       "4             red\n",
       "          ...    \n",
       "145    darkviolet\n",
       "146    darkviolet\n",
       "147    darkviolet\n",
       "148    darkviolet\n",
       "149    darkviolet\n",
       "Name: target, Length: 150, dtype: object"
      ]
     },
     "execution_count": 117,
     "metadata": {},
     "output_type": "execute_result"
    }
   ],
   "source": [
    "markercolor = data['target'].replace(\"Iris-setosa\",\"red\").replace(\"Iris-versicolor\",\"yellow\").replace(\"Iris-virginica\",\"darkviolet\")\n",
    "markersize = data['petal width']*10\n",
    "figprin3 = go.Scatter3d(x=principal3['PC1'],\n",
    "                    y=principal3['PC2'],\n",
    "                    z=principal3['PC3'],\n",
    "                    marker=dict(color = markercolor,\n",
    "                                opacity=0.9,\n",
    "                                reversescale=True,\n",
    "                                size=5),\n",
    "                    line=dict (width=0.02),\n",
    "                    mode='markers')\n",
    "\n",
    "#Make Plot.ly Layout\n",
    "mylayout3 = go.Layout(scene=dict(xaxis=dict( title=\"PC1\"),\n",
    "                                yaxis=dict( title=\"PC2\"),\n",
    "                                zaxis=dict(title=\"PC3\")),)\n",
    "\n",
    "#Plot and save html\n",
    "plotly.offline.plot({\"data\": [figprin3],\n",
    "                     \"layout\": mylayout3},\n",
    "                     auto_open=True,\n",
    "                     filename=(\"figprin3.html\"))\n",
    "markercolor"
   ]
  },
  {
   "cell_type": "code",
   "execution_count": 67,
   "id": "0eccb1bd",
   "metadata": {},
   "outputs": [],
   "source": [
    "originClusters = KMeans(n_clusters=3, random_state=0).fit(origin)"
   ]
  },
  {
   "cell_type": "code",
   "execution_count": 141,
   "id": "49f4bf63",
   "metadata": {},
   "outputs": [
    {
     "data": {
      "text/html": [
       "<div>\n",
       "<style scoped>\n",
       "    .dataframe tbody tr th:only-of-type {\n",
       "        vertical-align: middle;\n",
       "    }\n",
       "\n",
       "    .dataframe tbody tr th {\n",
       "        vertical-align: top;\n",
       "    }\n",
       "\n",
       "    .dataframe thead th {\n",
       "        text-align: right;\n",
       "    }\n",
       "</style>\n",
       "<table border=\"1\" class=\"dataframe\">\n",
       "  <thead>\n",
       "    <tr style=\"text-align: right;\">\n",
       "      <th></th>\n",
       "      <th>Adjust</th>\n",
       "      <th>origin</th>\n",
       "      <th>PC1</th>\n",
       "      <th>PC2</th>\n",
       "      <th>PC3</th>\n",
       "      <th>compare1</th>\n",
       "      <th>compare2</th>\n",
       "      <th>compare3</th>\n",
       "      <th>compare0A</th>\n",
       "      <th>compare1A</th>\n",
       "      <th>compare2A</th>\n",
       "      <th>compare3A</th>\n",
       "    </tr>\n",
       "  </thead>\n",
       "  <tbody>\n",
       "    <tr>\n",
       "      <th>0</th>\n",
       "      <td>Iris-setosa</td>\n",
       "      <td>Iris-setosa</td>\n",
       "      <td>Iris-setosa</td>\n",
       "      <td>Iris-setosa</td>\n",
       "      <td>Iris-setosa</td>\n",
       "      <td>True</td>\n",
       "      <td>True</td>\n",
       "      <td>True</td>\n",
       "      <td>True</td>\n",
       "      <td>True</td>\n",
       "      <td>True</td>\n",
       "      <td>True</td>\n",
       "    </tr>\n",
       "    <tr>\n",
       "      <th>1</th>\n",
       "      <td>Iris-setosa</td>\n",
       "      <td>Iris-setosa</td>\n",
       "      <td>Iris-setosa</td>\n",
       "      <td>Iris-setosa</td>\n",
       "      <td>Iris-setosa</td>\n",
       "      <td>True</td>\n",
       "      <td>True</td>\n",
       "      <td>True</td>\n",
       "      <td>True</td>\n",
       "      <td>True</td>\n",
       "      <td>True</td>\n",
       "      <td>True</td>\n",
       "    </tr>\n",
       "    <tr>\n",
       "      <th>2</th>\n",
       "      <td>Iris-setosa</td>\n",
       "      <td>Iris-setosa</td>\n",
       "      <td>Iris-setosa</td>\n",
       "      <td>Iris-setosa</td>\n",
       "      <td>Iris-setosa</td>\n",
       "      <td>True</td>\n",
       "      <td>True</td>\n",
       "      <td>True</td>\n",
       "      <td>True</td>\n",
       "      <td>True</td>\n",
       "      <td>True</td>\n",
       "      <td>True</td>\n",
       "    </tr>\n",
       "    <tr>\n",
       "      <th>3</th>\n",
       "      <td>Iris-setosa</td>\n",
       "      <td>Iris-setosa</td>\n",
       "      <td>Iris-setosa</td>\n",
       "      <td>Iris-setosa</td>\n",
       "      <td>Iris-setosa</td>\n",
       "      <td>True</td>\n",
       "      <td>True</td>\n",
       "      <td>True</td>\n",
       "      <td>True</td>\n",
       "      <td>True</td>\n",
       "      <td>True</td>\n",
       "      <td>True</td>\n",
       "    </tr>\n",
       "    <tr>\n",
       "      <th>4</th>\n",
       "      <td>Iris-setosa</td>\n",
       "      <td>Iris-setosa</td>\n",
       "      <td>Iris-setosa</td>\n",
       "      <td>Iris-setosa</td>\n",
       "      <td>Iris-setosa</td>\n",
       "      <td>True</td>\n",
       "      <td>True</td>\n",
       "      <td>True</td>\n",
       "      <td>True</td>\n",
       "      <td>True</td>\n",
       "      <td>True</td>\n",
       "      <td>True</td>\n",
       "    </tr>\n",
       "    <tr>\n",
       "      <th>...</th>\n",
       "      <td>...</td>\n",
       "      <td>...</td>\n",
       "      <td>...</td>\n",
       "      <td>...</td>\n",
       "      <td>...</td>\n",
       "      <td>...</td>\n",
       "      <td>...</td>\n",
       "      <td>...</td>\n",
       "      <td>...</td>\n",
       "      <td>...</td>\n",
       "      <td>...</td>\n",
       "      <td>...</td>\n",
       "    </tr>\n",
       "    <tr>\n",
       "      <th>145</th>\n",
       "      <td>Iris-virginica</td>\n",
       "      <td>Iris-virginica</td>\n",
       "      <td>Iris-virginica</td>\n",
       "      <td>Iris-virginica</td>\n",
       "      <td>Iris-virginica</td>\n",
       "      <td>True</td>\n",
       "      <td>True</td>\n",
       "      <td>True</td>\n",
       "      <td>True</td>\n",
       "      <td>True</td>\n",
       "      <td>True</td>\n",
       "      <td>True</td>\n",
       "    </tr>\n",
       "    <tr>\n",
       "      <th>146</th>\n",
       "      <td>Iris-virginica</td>\n",
       "      <td>Iris-versicolor</td>\n",
       "      <td>Iris-virginica</td>\n",
       "      <td>Iris-versicolor</td>\n",
       "      <td>Iris-versicolor</td>\n",
       "      <td>False</td>\n",
       "      <td>True</td>\n",
       "      <td>True</td>\n",
       "      <td>False</td>\n",
       "      <td>True</td>\n",
       "      <td>False</td>\n",
       "      <td>False</td>\n",
       "    </tr>\n",
       "    <tr>\n",
       "      <th>147</th>\n",
       "      <td>Iris-virginica</td>\n",
       "      <td>Iris-virginica</td>\n",
       "      <td>Iris-virginica</td>\n",
       "      <td>Iris-virginica</td>\n",
       "      <td>Iris-virginica</td>\n",
       "      <td>True</td>\n",
       "      <td>True</td>\n",
       "      <td>True</td>\n",
       "      <td>True</td>\n",
       "      <td>True</td>\n",
       "      <td>True</td>\n",
       "      <td>True</td>\n",
       "    </tr>\n",
       "    <tr>\n",
       "      <th>148</th>\n",
       "      <td>Iris-virginica</td>\n",
       "      <td>Iris-virginica</td>\n",
       "      <td>Iris-virginica</td>\n",
       "      <td>Iris-virginica</td>\n",
       "      <td>Iris-virginica</td>\n",
       "      <td>True</td>\n",
       "      <td>True</td>\n",
       "      <td>True</td>\n",
       "      <td>True</td>\n",
       "      <td>True</td>\n",
       "      <td>True</td>\n",
       "      <td>True</td>\n",
       "    </tr>\n",
       "    <tr>\n",
       "      <th>149</th>\n",
       "      <td>Iris-virginica</td>\n",
       "      <td>Iris-versicolor</td>\n",
       "      <td>Iris-versicolor</td>\n",
       "      <td>Iris-versicolor</td>\n",
       "      <td>Iris-versicolor</td>\n",
       "      <td>True</td>\n",
       "      <td>True</td>\n",
       "      <td>True</td>\n",
       "      <td>False</td>\n",
       "      <td>False</td>\n",
       "      <td>False</td>\n",
       "      <td>False</td>\n",
       "    </tr>\n",
       "  </tbody>\n",
       "</table>\n",
       "<p>150 rows × 12 columns</p>\n",
       "</div>"
      ],
      "text/plain": [
       "             Adjust           origin              PC1              PC2  \\\n",
       "0       Iris-setosa      Iris-setosa      Iris-setosa      Iris-setosa   \n",
       "1       Iris-setosa      Iris-setosa      Iris-setosa      Iris-setosa   \n",
       "2       Iris-setosa      Iris-setosa      Iris-setosa      Iris-setosa   \n",
       "3       Iris-setosa      Iris-setosa      Iris-setosa      Iris-setosa   \n",
       "4       Iris-setosa      Iris-setosa      Iris-setosa      Iris-setosa   \n",
       "..              ...              ...              ...              ...   \n",
       "145  Iris-virginica   Iris-virginica   Iris-virginica   Iris-virginica   \n",
       "146  Iris-virginica  Iris-versicolor   Iris-virginica  Iris-versicolor   \n",
       "147  Iris-virginica   Iris-virginica   Iris-virginica   Iris-virginica   \n",
       "148  Iris-virginica   Iris-virginica   Iris-virginica   Iris-virginica   \n",
       "149  Iris-virginica  Iris-versicolor  Iris-versicolor  Iris-versicolor   \n",
       "\n",
       "                 PC3  compare1  compare2  compare3  compare0A  compare1A  \\\n",
       "0        Iris-setosa      True      True      True       True       True   \n",
       "1        Iris-setosa      True      True      True       True       True   \n",
       "2        Iris-setosa      True      True      True       True       True   \n",
       "3        Iris-setosa      True      True      True       True       True   \n",
       "4        Iris-setosa      True      True      True       True       True   \n",
       "..               ...       ...       ...       ...        ...        ...   \n",
       "145   Iris-virginica      True      True      True       True       True   \n",
       "146  Iris-versicolor     False      True      True      False       True   \n",
       "147   Iris-virginica      True      True      True       True       True   \n",
       "148   Iris-virginica      True      True      True       True       True   \n",
       "149  Iris-versicolor      True      True      True      False      False   \n",
       "\n",
       "     compare2A  compare3A  \n",
       "0         True       True  \n",
       "1         True       True  \n",
       "2         True       True  \n",
       "3         True       True  \n",
       "4         True       True  \n",
       "..         ...        ...  \n",
       "145       True       True  \n",
       "146      False      False  \n",
       "147       True       True  \n",
       "148       True       True  \n",
       "149      False      False  \n",
       "\n",
       "[150 rows x 12 columns]"
      ]
     },
     "execution_count": 141,
     "metadata": {},
     "output_type": "execute_result"
    }
   ],
   "source": [
    "originLabels = originClusters.labels_\n",
    "originLabels = pd.Series(Cluseters3.labels_)\n",
    "originLabels = originLabels.replace(1,\"Iris-setosa\").replace(0,\"Iris-versicolor\").replace(2,\"Iris-virginica\")\n",
    "MergeLabels = pd.DataFrame(pd.DataFrame({\"Adjust\":target,'origin' :originLabels,'PC1' :label1, 'PC2' :label2,'PC3' :label3 }))\n",
    "MergeLabels['compare1'] = MergeLabels['origin'] == MergeLabels['PC1']\n",
    "MergeLabels['compare2'] = MergeLabels['origin'] == MergeLabels['PC2']\n",
    "MergeLabels['compare3'] = MergeLabels['origin'] == MergeLabels['PC3']\n",
    "MergeLabels['compare0A'] = MergeLabels['Adjust'] == MergeLabels['origin']\n",
    "MergeLabels['compare1A'] = MergeLabels['Adjust'] == MergeLabels['PC1']\n",
    "MergeLabels['compare2A'] = MergeLabels['Adjust'] == MergeLabels['PC2']\n",
    "MergeLabels['compare3A'] = MergeLabels['Adjust'] == MergeLabels['PC3']\n",
    "TP1 = MergeLabels['compare1'].value_counts()\n",
    "TP2 = MergeLabels['compare2'].value_counts()\n",
    "TP3 = MergeLabels['compare3'].value_counts()\n",
    "TP0A = MergeLabels['compare0A'].value_counts()\n",
    "TP1A = MergeLabels['compare1A'].value_counts()\n",
    "TP2A = MergeLabels['compare2A'].value_counts()\n",
    "TP3A = MergeLabels['compare3A'].value_counts()\n",
    "MergeLabels"
   ]
  },
  {
   "cell_type": "code",
   "execution_count": 139,
   "id": "116556a7",
   "metadata": {},
   "outputs": [
    {
     "data": {
      "text/plain": [
       "(True     147\n",
       " False      3\n",
       " Name: compare1, dtype: int64,\n",
       " True     149\n",
       " False      1\n",
       " Name: compare2, dtype: int64,\n",
       " True    150\n",
       " Name: compare3, dtype: int64,\n",
       " True     134\n",
       " False     16\n",
       " Name: compare0A, dtype: int64,\n",
       " True     137\n",
       " False     13\n",
       " Name: compare1A, dtype: int64,\n",
       " True     133\n",
       " False     17\n",
       " Name: compare2A, dtype: int64,\n",
       " True     134\n",
       " False     16\n",
       " Name: compare3A, dtype: int64)"
      ]
     },
     "execution_count": 139,
     "metadata": {},
     "output_type": "execute_result"
    }
   ],
   "source": [
    "TP1, TP2, TP3,TP0A ,TP1A, TP2A, TP3A"
   ]
  }
 ],
 "metadata": {
  "kernelspec": {
   "display_name": "Python 3 (ipykernel)",
   "language": "python",
   "name": "python3"
  },
  "language_info": {
   "codemirror_mode": {
    "name": "ipython",
    "version": 3
   },
   "file_extension": ".py",
   "mimetype": "text/x-python",
   "name": "python",
   "nbconvert_exporter": "python",
   "pygments_lexer": "ipython3",
   "version": "3.10.3"
  }
 },
 "nbformat": 4,
 "nbformat_minor": 5
}
